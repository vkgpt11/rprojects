{
 "cells": [
  {
   "cell_type": "code",
   "execution_count": 4,
   "metadata": {
    "collapsed": false
   },
   "outputs": [
    {
     "name": "stderr",
     "output_type": "stream",
     "text": [
      "Downloading GitHub repo StatsWithR/statsr@master\n",
      "from URL https://api.github.com/repos/StatsWithR/statsr/zipball/master\n",
      "Installing statsr\n",
      "\"C:/PROGRA~1/ANACON~1/R/bin/x64/R\" --no-site-file --no-environ --no-save  \\\n",
      "  --no-restore --quiet CMD INSTALL  \\\n",
      "  \"C:/Users/vikas/AppData/Local/Temp/RtmpwfTRMZ/devtools8e84d832604/StatsWithR-statsr-6f64cf2\"  \\\n",
      "  --library=\"C:/Users/vikas/Documents/R/win-library/3.3\" --install-tests \n",
      "\n"
     ]
    }
   ],
   "source": [
    "#install.packages(\"dplyr\",repos = \"http://cran.us.r-project.org\")\n",
    "#install.packages(\"ggplot2\",repos = \"http://cran.us.r-project.org\")\n",
    "#install.packages(\"shiny\",repos = \"http://cran.us.r-project.org\")\n",
    "#install.packages(\"devtools\",repos = \"http://cran.us.r-project.org\")\n",
    "library(devtools)\n",
    "install_github(\"StatsWithR/statsr\",force = TRUE)"
   ]
  },
  {
   "cell_type": "code",
   "execution_count": 8,
   "metadata": {
    "collapsed": false
   },
   "outputs": [],
   "source": [
    "library(\"statsr\")"
   ]
  },
  {
   "cell_type": "markdown",
   "metadata": {},
   "source": [
    "## The Arbuthnot data set\n",
    "Refers to Dr. John Arbuthnot, an 18<sup>th</sup> century \n",
    "physician, writer, and mathematician. He was interested in the ratio of newborn\n",
    "boys to newborn girls, so he gathered the baptism records for children born in\n",
    "London for every year from 1629 to 1710."
   ]
  },
  {
   "cell_type": "code",
   "execution_count": 10,
   "metadata": {
    "collapsed": false
   },
   "outputs": [],
   "source": [
    "data(arbuthnot)"
   ]
  },
  {
   "cell_type": "code",
   "execution_count": 13,
   "metadata": {
    "collapsed": false
   },
   "outputs": [
    {
     "data": {
      "text/html": [
       "<table>\n",
       "<thead><tr><th scope=col>year</th><th scope=col>boys</th><th scope=col>girls</th></tr></thead>\n",
       "<tbody>\n",
       "\t<tr><td>1629</td><td>5218</td><td>4683</td></tr>\n",
       "\t<tr><td>1630</td><td>4858</td><td>4457</td></tr>\n",
       "\t<tr><td>1631</td><td>4422</td><td>4102</td></tr>\n",
       "\t<tr><td>1632</td><td>4994</td><td>4590</td></tr>\n",
       "\t<tr><td>1633</td><td>5158</td><td>4839</td></tr>\n",
       "\t<tr><td>1634</td><td>5035</td><td>4820</td></tr>\n",
       "</tbody>\n",
       "</table>\n"
      ],
      "text/latex": [
       "\\begin{tabular}{r|lll}\n",
       " year & boys & girls\\\\\n",
       "\\hline\n",
       "\t 1629 & 5218 & 4683\\\\\n",
       "\t 1630 & 4858 & 4457\\\\\n",
       "\t 1631 & 4422 & 4102\\\\\n",
       "\t 1632 & 4994 & 4590\\\\\n",
       "\t 1633 & 5158 & 4839\\\\\n",
       "\t 1634 & 5035 & 4820\\\\\n",
       "\\end{tabular}\n"
      ],
      "text/markdown": [
       "\n",
       "year | boys | girls | \n",
       "|---|---|---|---|---|---|\n",
       "| 1629 | 5218 | 4683 | \n",
       "| 1630 | 4858 | 4457 | \n",
       "| 1631 | 4422 | 4102 | \n",
       "| 1632 | 4994 | 4590 | \n",
       "| 1633 | 5158 | 4839 | \n",
       "| 1634 | 5035 | 4820 | \n",
       "\n",
       "\n"
      ],
      "text/plain": [
       "  year boys girls\n",
       "1 1629 5218 4683 \n",
       "2 1630 4858 4457 \n",
       "3 1631 4422 4102 \n",
       "4 1632 4994 4590 \n",
       "5 1633 5158 4839 \n",
       "6 1634 5035 4820 "
      ]
     },
     "metadata": {},
     "output_type": "display_data"
    }
   ],
   "source": [
    "head(arbuthnot)"
   ]
  },
  {
   "cell_type": "markdown",
   "metadata": {},
   "source": [
    "**Q1.  How many variables are included in this data set? **"
   ]
  },
  {
   "cell_type": "code",
   "execution_count": 15,
   "metadata": {
    "collapsed": false
   },
   "outputs": [
    {
     "data": {
      "text/html": [
       "<ol class=list-inline>\n",
       "\t<li>82</li>\n",
       "\t<li>3</li>\n",
       "</ol>\n"
      ],
      "text/latex": [
       "\\begin{enumerate*}\n",
       "\\item 82\n",
       "\\item 3\n",
       "\\end{enumerate*}\n"
      ],
      "text/markdown": [
       "1. 82\n",
       "2. 3\n",
       "\n",
       "\n"
      ],
      "text/plain": [
       "[1] 82  3"
      ]
     },
     "metadata": {},
     "output_type": "display_data"
    }
   ],
   "source": [
    "dim(arbuthnot)"
   ]
  },
  {
   "cell_type": "code",
   "execution_count": 17,
   "metadata": {
    "collapsed": false
   },
   "outputs": [
    {
     "data": {
      "text/html": [
       "<ol class=list-inline>\n",
       "\t<li>'year'</li>\n",
       "\t<li>'boys'</li>\n",
       "\t<li>'girls'</li>\n",
       "</ol>\n"
      ],
      "text/latex": [
       "\\begin{enumerate*}\n",
       "\\item 'year'\n",
       "\\item 'boys'\n",
       "\\item 'girls'\n",
       "\\end{enumerate*}\n"
      ],
      "text/markdown": [
       "1. 'year'\n",
       "2. 'boys'\n",
       "3. 'girls'\n",
       "\n",
       "\n"
      ],
      "text/plain": [
       "[1] \"year\"  \"boys\"  \"girls\""
      ]
     },
     "metadata": {},
     "output_type": "display_data"
    }
   ],
   "source": [
    "names(arbuthnot)"
   ]
  },
  {
   "cell_type": "markdown",
   "metadata": {},
   "source": [
    "**Q2. What years are included in this dataset?**"
   ]
  },
  {
   "cell_type": "code",
   "execution_count": 26,
   "metadata": {
    "collapsed": false
   },
   "outputs": [
    {
     "data": {
      "text/html": [
       "<ol class=list-inline>\n",
       "\t<li>1629</li>\n",
       "\t<li>1630</li>\n",
       "\t<li>1631</li>\n",
       "\t<li>1632</li>\n",
       "\t<li>1633</li>\n",
       "\t<li>1634</li>\n",
       "\t<li>1635</li>\n",
       "\t<li>1636</li>\n",
       "\t<li>1637</li>\n",
       "\t<li>1638</li>\n",
       "\t<li>1639</li>\n",
       "\t<li>1640</li>\n",
       "\t<li>1641</li>\n",
       "\t<li>1642</li>\n",
       "\t<li>1643</li>\n",
       "\t<li>1644</li>\n",
       "\t<li>1645</li>\n",
       "\t<li>1646</li>\n",
       "\t<li>1647</li>\n",
       "\t<li>1648</li>\n",
       "\t<li>1649</li>\n",
       "\t<li>1650</li>\n",
       "\t<li>1651</li>\n",
       "\t<li>1652</li>\n",
       "\t<li>1653</li>\n",
       "\t<li>1654</li>\n",
       "\t<li>1655</li>\n",
       "\t<li>1656</li>\n",
       "\t<li>1657</li>\n",
       "\t<li>1658</li>\n",
       "\t<li>1659</li>\n",
       "\t<li>1660</li>\n",
       "\t<li>1661</li>\n",
       "\t<li>1662</li>\n",
       "\t<li>1663</li>\n",
       "\t<li>1664</li>\n",
       "\t<li>1665</li>\n",
       "\t<li>1666</li>\n",
       "\t<li>1667</li>\n",
       "\t<li>1668</li>\n",
       "\t<li>1669</li>\n",
       "\t<li>1670</li>\n",
       "\t<li>1671</li>\n",
       "\t<li>1672</li>\n",
       "\t<li>1673</li>\n",
       "\t<li>1674</li>\n",
       "\t<li>1675</li>\n",
       "\t<li>1676</li>\n",
       "\t<li>1677</li>\n",
       "\t<li>1678</li>\n",
       "\t<li>1679</li>\n",
       "\t<li>1680</li>\n",
       "\t<li>1681</li>\n",
       "\t<li>1682</li>\n",
       "\t<li>1683</li>\n",
       "\t<li>1684</li>\n",
       "\t<li>1685</li>\n",
       "\t<li>1686</li>\n",
       "\t<li>1687</li>\n",
       "\t<li>1688</li>\n",
       "\t<li>1689</li>\n",
       "\t<li>1690</li>\n",
       "\t<li>1691</li>\n",
       "\t<li>1692</li>\n",
       "\t<li>1693</li>\n",
       "\t<li>1694</li>\n",
       "\t<li>1695</li>\n",
       "\t<li>1696</li>\n",
       "\t<li>1697</li>\n",
       "\t<li>1698</li>\n",
       "\t<li>1699</li>\n",
       "\t<li>1700</li>\n",
       "\t<li>1701</li>\n",
       "\t<li>1702</li>\n",
       "\t<li>1703</li>\n",
       "\t<li>1704</li>\n",
       "\t<li>1705</li>\n",
       "\t<li>1706</li>\n",
       "\t<li>1707</li>\n",
       "\t<li>1708</li>\n",
       "\t<li>1709</li>\n",
       "\t<li>1710</li>\n",
       "</ol>\n"
      ],
      "text/latex": [
       "\\begin{enumerate*}\n",
       "\\item 1629\n",
       "\\item 1630\n",
       "\\item 1631\n",
       "\\item 1632\n",
       "\\item 1633\n",
       "\\item 1634\n",
       "\\item 1635\n",
       "\\item 1636\n",
       "\\item 1637\n",
       "\\item 1638\n",
       "\\item 1639\n",
       "\\item 1640\n",
       "\\item 1641\n",
       "\\item 1642\n",
       "\\item 1643\n",
       "\\item 1644\n",
       "\\item 1645\n",
       "\\item 1646\n",
       "\\item 1647\n",
       "\\item 1648\n",
       "\\item 1649\n",
       "\\item 1650\n",
       "\\item 1651\n",
       "\\item 1652\n",
       "\\item 1653\n",
       "\\item 1654\n",
       "\\item 1655\n",
       "\\item 1656\n",
       "\\item 1657\n",
       "\\item 1658\n",
       "\\item 1659\n",
       "\\item 1660\n",
       "\\item 1661\n",
       "\\item 1662\n",
       "\\item 1663\n",
       "\\item 1664\n",
       "\\item 1665\n",
       "\\item 1666\n",
       "\\item 1667\n",
       "\\item 1668\n",
       "\\item 1669\n",
       "\\item 1670\n",
       "\\item 1671\n",
       "\\item 1672\n",
       "\\item 1673\n",
       "\\item 1674\n",
       "\\item 1675\n",
       "\\item 1676\n",
       "\\item 1677\n",
       "\\item 1678\n",
       "\\item 1679\n",
       "\\item 1680\n",
       "\\item 1681\n",
       "\\item 1682\n",
       "\\item 1683\n",
       "\\item 1684\n",
       "\\item 1685\n",
       "\\item 1686\n",
       "\\item 1687\n",
       "\\item 1688\n",
       "\\item 1689\n",
       "\\item 1690\n",
       "\\item 1691\n",
       "\\item 1692\n",
       "\\item 1693\n",
       "\\item 1694\n",
       "\\item 1695\n",
       "\\item 1696\n",
       "\\item 1697\n",
       "\\item 1698\n",
       "\\item 1699\n",
       "\\item 1700\n",
       "\\item 1701\n",
       "\\item 1702\n",
       "\\item 1703\n",
       "\\item 1704\n",
       "\\item 1705\n",
       "\\item 1706\n",
       "\\item 1707\n",
       "\\item 1708\n",
       "\\item 1709\n",
       "\\item 1710\n",
       "\\end{enumerate*}\n"
      ],
      "text/markdown": [
       "1. 1629\n",
       "2. 1630\n",
       "3. 1631\n",
       "4. 1632\n",
       "5. 1633\n",
       "6. 1634\n",
       "7. 1635\n",
       "8. 1636\n",
       "9. 1637\n",
       "10. 1638\n",
       "11. 1639\n",
       "12. 1640\n",
       "13. 1641\n",
       "14. 1642\n",
       "15. 1643\n",
       "16. 1644\n",
       "17. 1645\n",
       "18. 1646\n",
       "19. 1647\n",
       "20. 1648\n",
       "21. 1649\n",
       "22. 1650\n",
       "23. 1651\n",
       "24. 1652\n",
       "25. 1653\n",
       "26. 1654\n",
       "27. 1655\n",
       "28. 1656\n",
       "29. 1657\n",
       "30. 1658\n",
       "31. 1659\n",
       "32. 1660\n",
       "33. 1661\n",
       "34. 1662\n",
       "35. 1663\n",
       "36. 1664\n",
       "37. 1665\n",
       "38. 1666\n",
       "39. 1667\n",
       "40. 1668\n",
       "41. 1669\n",
       "42. 1670\n",
       "43. 1671\n",
       "44. 1672\n",
       "45. 1673\n",
       "46. 1674\n",
       "47. 1675\n",
       "48. 1676\n",
       "49. 1677\n",
       "50. 1678\n",
       "51. 1679\n",
       "52. 1680\n",
       "53. 1681\n",
       "54. 1682\n",
       "55. 1683\n",
       "56. 1684\n",
       "57. 1685\n",
       "58. 1686\n",
       "59. 1687\n",
       "60. 1688\n",
       "61. 1689\n",
       "62. 1690\n",
       "63. 1691\n",
       "64. 1692\n",
       "65. 1693\n",
       "66. 1694\n",
       "67. 1695\n",
       "68. 1696\n",
       "69. 1697\n",
       "70. 1698\n",
       "71. 1699\n",
       "72. 1700\n",
       "73. 1701\n",
       "74. 1702\n",
       "75. 1703\n",
       "76. 1704\n",
       "77. 1705\n",
       "78. 1706\n",
       "79. 1707\n",
       "80. 1708\n",
       "81. 1709\n",
       "82. 1710\n",
       "\n",
       "\n"
      ],
      "text/plain": [
       " [1] 1629 1630 1631 1632 1633 1634 1635 1636 1637 1638 1639 1640 1641 1642 1643\n",
       "[16] 1644 1645 1646 1647 1648 1649 1650 1651 1652 1653 1654 1655 1656 1657 1658\n",
       "[31] 1659 1660 1661 1662 1663 1664 1665 1666 1667 1668 1669 1670 1671 1672 1673\n",
       "[46] 1674 1675 1676 1677 1678 1679 1680 1681 1682 1683 1684 1685 1686 1687 1688\n",
       "[61] 1689 1690 1691 1692 1693 1694 1695 1696 1697 1698 1699 1700 1701 1702 1703\n",
       "[76] 1704 1705 1706 1707 1708 1709 1710"
      ]
     },
     "metadata": {},
     "output_type": "display_data"
    }
   ],
   "source": [
    "arbuthnot$year"
   ]
  },
  {
   "cell_type": "code",
   "execution_count": 27,
   "metadata": {
    "collapsed": false
   },
   "outputs": [
    {
     "data": {
      "text/html": [
       "<ol class=list-inline>\n",
       "\t<li>5218</li>\n",
       "\t<li>4858</li>\n",
       "\t<li>4422</li>\n",
       "\t<li>4994</li>\n",
       "\t<li>5158</li>\n",
       "\t<li>5035</li>\n",
       "\t<li>5106</li>\n",
       "\t<li>4917</li>\n",
       "\t<li>4703</li>\n",
       "\t<li>5359</li>\n",
       "\t<li>5366</li>\n",
       "\t<li>5518</li>\n",
       "\t<li>5470</li>\n",
       "\t<li>5460</li>\n",
       "\t<li>4793</li>\n",
       "\t<li>4107</li>\n",
       "\t<li>4047</li>\n",
       "\t<li>3768</li>\n",
       "\t<li>3796</li>\n",
       "\t<li>3363</li>\n",
       "\t<li>3079</li>\n",
       "\t<li>2890</li>\n",
       "\t<li>3231</li>\n",
       "\t<li>3220</li>\n",
       "\t<li>3196</li>\n",
       "\t<li>3441</li>\n",
       "\t<li>3655</li>\n",
       "\t<li>3668</li>\n",
       "\t<li>3396</li>\n",
       "\t<li>3157</li>\n",
       "\t<li>3209</li>\n",
       "\t<li>3724</li>\n",
       "\t<li>4748</li>\n",
       "\t<li>5216</li>\n",
       "\t<li>5411</li>\n",
       "\t<li>6041</li>\n",
       "\t<li>5114</li>\n",
       "\t<li>4678</li>\n",
       "\t<li>5616</li>\n",
       "\t<li>6073</li>\n",
       "\t<li>6506</li>\n",
       "\t<li>6278</li>\n",
       "\t<li>6449</li>\n",
       "\t<li>6443</li>\n",
       "\t<li>6073</li>\n",
       "\t<li>6113</li>\n",
       "\t<li>6058</li>\n",
       "\t<li>6552</li>\n",
       "\t<li>6423</li>\n",
       "\t<li>6568</li>\n",
       "\t<li>6247</li>\n",
       "\t<li>6548</li>\n",
       "\t<li>6822</li>\n",
       "\t<li>6909</li>\n",
       "\t<li>7577</li>\n",
       "\t<li>7575</li>\n",
       "\t<li>7484</li>\n",
       "\t<li>7575</li>\n",
       "\t<li>7737</li>\n",
       "\t<li>7487</li>\n",
       "\t<li>7604</li>\n",
       "\t<li>7909</li>\n",
       "\t<li>7662</li>\n",
       "\t<li>7602</li>\n",
       "\t<li>7676</li>\n",
       "\t<li>6985</li>\n",
       "\t<li>7263</li>\n",
       "\t<li>7632</li>\n",
       "\t<li>8062</li>\n",
       "\t<li>8426</li>\n",
       "\t<li>7911</li>\n",
       "\t<li>7578</li>\n",
       "\t<li>8102</li>\n",
       "\t<li>8031</li>\n",
       "\t<li>7765</li>\n",
       "\t<li>6113</li>\n",
       "\t<li>8366</li>\n",
       "\t<li>7952</li>\n",
       "\t<li>8379</li>\n",
       "\t<li>8239</li>\n",
       "\t<li>7840</li>\n",
       "\t<li>7640</li>\n",
       "</ol>\n"
      ],
      "text/latex": [
       "\\begin{enumerate*}\n",
       "\\item 5218\n",
       "\\item 4858\n",
       "\\item 4422\n",
       "\\item 4994\n",
       "\\item 5158\n",
       "\\item 5035\n",
       "\\item 5106\n",
       "\\item 4917\n",
       "\\item 4703\n",
       "\\item 5359\n",
       "\\item 5366\n",
       "\\item 5518\n",
       "\\item 5470\n",
       "\\item 5460\n",
       "\\item 4793\n",
       "\\item 4107\n",
       "\\item 4047\n",
       "\\item 3768\n",
       "\\item 3796\n",
       "\\item 3363\n",
       "\\item 3079\n",
       "\\item 2890\n",
       "\\item 3231\n",
       "\\item 3220\n",
       "\\item 3196\n",
       "\\item 3441\n",
       "\\item 3655\n",
       "\\item 3668\n",
       "\\item 3396\n",
       "\\item 3157\n",
       "\\item 3209\n",
       "\\item 3724\n",
       "\\item 4748\n",
       "\\item 5216\n",
       "\\item 5411\n",
       "\\item 6041\n",
       "\\item 5114\n",
       "\\item 4678\n",
       "\\item 5616\n",
       "\\item 6073\n",
       "\\item 6506\n",
       "\\item 6278\n",
       "\\item 6449\n",
       "\\item 6443\n",
       "\\item 6073\n",
       "\\item 6113\n",
       "\\item 6058\n",
       "\\item 6552\n",
       "\\item 6423\n",
       "\\item 6568\n",
       "\\item 6247\n",
       "\\item 6548\n",
       "\\item 6822\n",
       "\\item 6909\n",
       "\\item 7577\n",
       "\\item 7575\n",
       "\\item 7484\n",
       "\\item 7575\n",
       "\\item 7737\n",
       "\\item 7487\n",
       "\\item 7604\n",
       "\\item 7909\n",
       "\\item 7662\n",
       "\\item 7602\n",
       "\\item 7676\n",
       "\\item 6985\n",
       "\\item 7263\n",
       "\\item 7632\n",
       "\\item 8062\n",
       "\\item 8426\n",
       "\\item 7911\n",
       "\\item 7578\n",
       "\\item 8102\n",
       "\\item 8031\n",
       "\\item 7765\n",
       "\\item 6113\n",
       "\\item 8366\n",
       "\\item 7952\n",
       "\\item 8379\n",
       "\\item 8239\n",
       "\\item 7840\n",
       "\\item 7640\n",
       "\\end{enumerate*}\n"
      ],
      "text/markdown": [
       "1. 5218\n",
       "2. 4858\n",
       "3. 4422\n",
       "4. 4994\n",
       "5. 5158\n",
       "6. 5035\n",
       "7. 5106\n",
       "8. 4917\n",
       "9. 4703\n",
       "10. 5359\n",
       "11. 5366\n",
       "12. 5518\n",
       "13. 5470\n",
       "14. 5460\n",
       "15. 4793\n",
       "16. 4107\n",
       "17. 4047\n",
       "18. 3768\n",
       "19. 3796\n",
       "20. 3363\n",
       "21. 3079\n",
       "22. 2890\n",
       "23. 3231\n",
       "24. 3220\n",
       "25. 3196\n",
       "26. 3441\n",
       "27. 3655\n",
       "28. 3668\n",
       "29. 3396\n",
       "30. 3157\n",
       "31. 3209\n",
       "32. 3724\n",
       "33. 4748\n",
       "34. 5216\n",
       "35. 5411\n",
       "36. 6041\n",
       "37. 5114\n",
       "38. 4678\n",
       "39. 5616\n",
       "40. 6073\n",
       "41. 6506\n",
       "42. 6278\n",
       "43. 6449\n",
       "44. 6443\n",
       "45. 6073\n",
       "46. 6113\n",
       "47. 6058\n",
       "48. 6552\n",
       "49. 6423\n",
       "50. 6568\n",
       "51. 6247\n",
       "52. 6548\n",
       "53. 6822\n",
       "54. 6909\n",
       "55. 7577\n",
       "56. 7575\n",
       "57. 7484\n",
       "58. 7575\n",
       "59. 7737\n",
       "60. 7487\n",
       "61. 7604\n",
       "62. 7909\n",
       "63. 7662\n",
       "64. 7602\n",
       "65. 7676\n",
       "66. 6985\n",
       "67. 7263\n",
       "68. 7632\n",
       "69. 8062\n",
       "70. 8426\n",
       "71. 7911\n",
       "72. 7578\n",
       "73. 8102\n",
       "74. 8031\n",
       "75. 7765\n",
       "76. 6113\n",
       "77. 8366\n",
       "78. 7952\n",
       "79. 8379\n",
       "80. 8239\n",
       "81. 7840\n",
       "82. 7640\n",
       "\n",
       "\n"
      ],
      "text/plain": [
       " [1] 5218 4858 4422 4994 5158 5035 5106 4917 4703 5359 5366 5518 5470 5460 4793\n",
       "[16] 4107 4047 3768 3796 3363 3079 2890 3231 3220 3196 3441 3655 3668 3396 3157\n",
       "[31] 3209 3724 4748 5216 5411 6041 5114 4678 5616 6073 6506 6278 6449 6443 6073\n",
       "[46] 6113 6058 6552 6423 6568 6247 6548 6822 6909 7577 7575 7484 7575 7737 7487\n",
       "[61] 7604 7909 7662 7602 7676 6985 7263 7632 8062 8426 7911 7578 8102 8031 7765\n",
       "[76] 6113 8366 7952 8379 8239 7840 7640"
      ]
     },
     "metadata": {},
     "output_type": "display_data"
    }
   ],
   "source": [
    "arbuthnot$boys"
   ]
  },
  {
   "cell_type": "markdown",
   "metadata": {},
   "source": [
    "**Q3.What command would you use to extract just the counts of girls born? \n",
    "** "
   ]
  },
  {
   "cell_type": "code",
   "execution_count": 29,
   "metadata": {
    "collapsed": false
   },
   "outputs": [
    {
     "data": {
      "text/html": [
       "453841"
      ],
      "text/latex": [
       "453841"
      ],
      "text/markdown": [
       "453841"
      ],
      "text/plain": [
       "[1] 453841"
      ]
     },
     "metadata": {},
     "output_type": "display_data"
    }
   ],
   "source": [
    "sum(arbuthnot$girls)"
   ]
  },
  {
   "cell_type": "code",
   "execution_count": 41,
   "metadata": {
    "collapsed": false
   },
   "outputs": [
    {
     "data": {},
     "metadata": {},
     "output_type": "display_data"
    },
    {
     "data": {
      "image/png": "[encoded data removed]",
      "text/plain": [
       "plot without title"
      ]
     },
     "metadata": {},
     "output_type": "display_data"
    }
   ],
   "source": [
    "library(ggplot2)\n",
    "ggplot(data = arbuthnot, aes(x = year, y = girls)) +\n",
    "  geom_point()\n",
    "\n",
    "\n",
    "#The first argument is always the dataset. \n",
    "#Next, we provide thevariables from the dataset to be assigned to `aes`thetic \n",
    "#elements of the plot, e.g. the x and the y axes. \n",
    "#Finally, we use another layer, separated by a `+` to specify the `geom`etric \n",
    "#object for the plot. Since we want to scatterplot, we use `geom_point`."
   ]
  },
  {
   "cell_type": "code",
   "execution_count": 42,
   "metadata": {
    "collapsed": false
   },
   "outputs": [],
   "source": [
    "library(dplyr)\n",
    "arbuthnot <- arbuthnot %>% \n",
    "                        mutate(total = boys + girls)\n",
    "#`%>%` operator is called the **piping*,\n",
    "#Basically, it takes the output of the current line and pipes it into \n",
    "#the following line of code\n",
    "\n",
    "#\"Take the `arbuthnot` dataset and **pipe** it into the `mutate` function. \n",
    "#Using this mutate a new variable called `total` that is the sum of the variables\n",
    "#called `boys` and `girls`. Then assign this new resulting dataset to the object\n",
    "#called `arbuthnot`, i.e. overwrite the old `arbuthnot` dataset with the new one\n",
    "#containing the new variable.\"*"
   ]
  },
  {
   "cell_type": "code",
   "execution_count": 43,
   "metadata": {
    "collapsed": false
   },
   "outputs": [
    {
     "data": {
      "text/html": [
       "<ol class=list-inline>\n",
       "\t<li>'year'</li>\n",
       "\t<li>'boys'</li>\n",
       "\t<li>'girls'</li>\n",
       "\t<li>'total'</li>\n",
       "</ol>\n"
      ],
      "text/latex": [
       "\\begin{enumerate*}\n",
       "\\item 'year'\n",
       "\\item 'boys'\n",
       "\\item 'girls'\n",
       "\\item 'total'\n",
       "\\end{enumerate*}\n"
      ],
      "text/markdown": [
       "1. 'year'\n",
       "2. 'boys'\n",
       "3. 'girls'\n",
       "4. 'total'\n",
       "\n",
       "\n"
      ],
      "text/plain": [
       "[1] \"year\"  \"boys\"  \"girls\" \"total\""
      ]
     },
     "metadata": {},
     "output_type": "display_data"
    }
   ],
   "source": [
    "names(arbuthnot)"
   ]
  },
  {
   "cell_type": "code",
   "execution_count": 48,
   "metadata": {
    "collapsed": false
   },
   "outputs": [
    {
     "data": {},
     "metadata": {},
     "output_type": "display_data"
    },
    {
     "data": {
      "image/png": "[encoded data removed]",
      "text/plain": [
       "plot without title"
      ]
     },
     "metadata": {},
     "output_type": "display_data"
    }
   ],
   "source": [
    "ggplot(data=arbuthnot, aes(x=year,y=total)) + geom_line() + geom_point()"
   ]
  },
  {
   "cell_type": "markdown",
   "metadata": {},
   "source": [
    "Generate a plot of the proportion of boys born over time. What \n",
    "do you see? "
   ]
  },
  {
   "cell_type": "code",
   "execution_count": 66,
   "metadata": {
    "collapsed": false
   },
   "outputs": [
    {
     "data": {},
     "metadata": {},
     "output_type": "display_data"
    },
    {
     "data": {
      "image/png": "[encoded data removed]",
      "text/plain": [
       "plot without title"
      ]
     },
     "metadata": {},
     "output_type": "display_data"
    }
   ],
   "source": [
    "ggplot(data=arbuthnot,aes(x=year,y=boys/(boys+girls))) + geom_line() + geom_point()"
   ]
  },
  {
   "cell_type": "code",
   "execution_count": 54,
   "metadata": {
    "collapsed": true
   },
   "outputs": [],
   "source": [
    "arbuthnot <- arbuthnot %>% \n",
    "                mutate(more_boys=boys>girls)\n",
    "#This command add a new variable to the `arbuthnot` data frame containing \n",
    "#the values of either `TRUE` if that year had more boys than girls, or `FALSE`"
   ]
  },
  {
   "cell_type": "markdown",
   "metadata": {},
   "source": [
    "## Present day birth records in the United States"
   ]
  },
  {
   "cell_type": "code",
   "execution_count": 53,
   "metadata": {
    "collapsed": true
   },
   "outputs": [],
   "source": [
    "data(present)"
   ]
  },
  {
   "cell_type": "code",
   "execution_count": 56,
   "metadata": {
    "collapsed": false
   },
   "outputs": [
    {
     "data": {
      "text/html": [
       "<ol class=list-inline>\n",
       "\t<li>74</li>\n",
       "\t<li>3</li>\n",
       "</ol>\n"
      ],
      "text/latex": [
       "\\begin{enumerate*}\n",
       "\\item 74\n",
       "\\item 3\n",
       "\\end{enumerate*}\n"
      ],
      "text/markdown": [
       "1. 74\n",
       "2. 3\n",
       "\n",
       "\n"
      ],
      "text/plain": [
       "[1] 74  3"
      ]
     },
     "metadata": {},
     "output_type": "display_data"
    }
   ],
   "source": [
    "dim(present)"
   ]
  },
  {
   "cell_type": "code",
   "execution_count": 61,
   "metadata": {
    "collapsed": false
   },
   "outputs": [
    {
     "data": {
      "text/html": [
       "<table>\n",
       "<thead><tr><th scope=col>year</th><th scope=col>boys</th><th scope=col>girls</th></tr></thead>\n",
       "<tbody>\n",
       "\t<tr><td>1940   </td><td>1211684</td><td>1148715</td></tr>\n",
       "\t<tr><td>1941   </td><td>1289734</td><td>1223693</td></tr>\n",
       "\t<tr><td>1942   </td><td>1444365</td><td>1364631</td></tr>\n",
       "\t<tr><td>1943   </td><td>1508959</td><td>1427901</td></tr>\n",
       "\t<tr><td>1944   </td><td>1435301</td><td>1359499</td></tr>\n",
       "\t<tr><td>1945   </td><td>1404587</td><td>1330869</td></tr>\n",
       "</tbody>\n",
       "</table>\n"
      ],
      "text/latex": [
       "\\begin{tabular}{r|lll}\n",
       " year & boys & girls\\\\\n",
       "\\hline\n",
       "\t 1940    & 1211684 & 1148715\\\\\n",
       "\t 1941    & 1289734 & 1223693\\\\\n",
       "\t 1942    & 1444365 & 1364631\\\\\n",
       "\t 1943    & 1508959 & 1427901\\\\\n",
       "\t 1944    & 1435301 & 1359499\\\\\n",
       "\t 1945    & 1404587 & 1330869\\\\\n",
       "\\end{tabular}\n"
      ],
      "text/markdown": [
       "\n",
       "year | boys | girls | \n",
       "|---|---|---|---|---|---|\n",
       "| 1940    | 1211684 | 1148715 | \n",
       "| 1941    | 1289734 | 1223693 | \n",
       "| 1942    | 1444365 | 1364631 | \n",
       "| 1943    | 1508959 | 1427901 | \n",
       "| 1944    | 1435301 | 1359499 | \n",
       "| 1945    | 1404587 | 1330869 | \n",
       "\n",
       "\n"
      ],
      "text/plain": [
       "  year boys    girls  \n",
       "1 1940 1211684 1148715\n",
       "2 1941 1289734 1223693\n",
       "3 1942 1444365 1364631\n",
       "4 1943 1508959 1427901\n",
       "5 1944 1435301 1359499\n",
       "6 1945 1404587 1330869"
      ]
     },
     "metadata": {},
     "output_type": "display_data"
    }
   ],
   "source": [
    "head(present)"
   ]
  },
  {
   "cell_type": "markdown",
   "metadata": {},
   "source": [
    "What years are included in this dataset? "
   ]
  },
  {
   "cell_type": "code",
   "execution_count": 62,
   "metadata": {
    "collapsed": false
   },
   "outputs": [
    {
     "data": {
      "text/html": [
       "<ol class=list-inline>\n",
       "\t<li>1940</li>\n",
       "\t<li>2013</li>\n",
       "</ol>\n"
      ],
      "text/latex": [
       "\\begin{enumerate*}\n",
       "\\item 1940\n",
       "\\item 2013\n",
       "\\end{enumerate*}\n"
      ],
      "text/markdown": [
       "1. 1940\n",
       "2. 2013\n",
       "\n",
       "\n"
      ],
      "text/plain": [
       "[1] 1940 2013"
      ]
     },
     "metadata": {},
     "output_type": "display_data"
    }
   ],
   "source": [
    "range(present$year)"
   ]
  },
  {
   "cell_type": "markdown",
   "metadata": {},
   "source": [
    "1. Calculate the total number of births for each year and store these values in a new \n",
    "variable called `total` in the `present` dataset. Then, calculate the proportion of \n",
    "boys born each year and store these values in a new variable called `prop_boys` in \n",
    "the same dataset. Plot these values over time and based on the plot determine if the \n",
    "following statement is true or false: The proportion of boys born in the US has \n",
    "decreased over time. "
   ]
  },
  {
   "cell_type": "code",
   "execution_count": 72,
   "metadata": {
    "collapsed": false
   },
   "outputs": [
    {
     "data": {},
     "metadata": {},
     "output_type": "display_data"
    },
    {
     "data": {
      "image/png": "[encoded data removed]",
      "text/plain": [
       "plot without title"
      ]
     },
     "metadata": {},
     "output_type": "display_data"
    }
   ],
   "source": [
    "present <-  present %>%\n",
    "                mutate(prop_boys=boys/(boys+girls))\n",
    "ggplot(data=present,aes(x=year,y=prop_boys)) +geom_point() +geom_line()"
   ]
  },
  {
   "cell_type": "markdown",
   "metadata": {},
   "source": [
    "Q. Create a new variable called `more_boys` which contains the value of either `TRUE` \n",
    "if that year had more boys than girls, or `FALSE` if that year did not. Based on this \n",
    "variable which of the following statements is true? \n",
    "\n",
    "<ol>\n",
    "<li> Every year there are more girls born than boys. </li>\n",
    "<li> Every year there are more boys born than girls. </li>\n",
    "<li> Half of the years there are more boys born, and the other half more girls born. </li>\n",
    "</ol>"
   ]
  },
  {
   "cell_type": "code",
   "execution_count": 70,
   "metadata": {
    "collapsed": false
   },
   "outputs": [
    {
     "data": {
      "text/html": [
       "<ol class=list-inline>\n",
       "\t<li>TRUE</li>\n",
       "\t<li>TRUE</li>\n",
       "\t<li>TRUE</li>\n",
       "\t<li>TRUE</li>\n",
       "\t<li>TRUE</li>\n",
       "\t<li>TRUE</li>\n",
       "\t<li>TRUE</li>\n",
       "\t<li>TRUE</li>\n",
       "\t<li>TRUE</li>\n",
       "\t<li>TRUE</li>\n",
       "\t<li>TRUE</li>\n",
       "\t<li>TRUE</li>\n",
       "\t<li>TRUE</li>\n",
       "\t<li>TRUE</li>\n",
       "\t<li>TRUE</li>\n",
       "\t<li>TRUE</li>\n",
       "\t<li>TRUE</li>\n",
       "\t<li>TRUE</li>\n",
       "\t<li>TRUE</li>\n",
       "\t<li>TRUE</li>\n",
       "\t<li>TRUE</li>\n",
       "\t<li>TRUE</li>\n",
       "\t<li>TRUE</li>\n",
       "\t<li>TRUE</li>\n",
       "\t<li>TRUE</li>\n",
       "\t<li>TRUE</li>\n",
       "\t<li>TRUE</li>\n",
       "\t<li>TRUE</li>\n",
       "\t<li>TRUE</li>\n",
       "\t<li>TRUE</li>\n",
       "\t<li>TRUE</li>\n",
       "\t<li>TRUE</li>\n",
       "\t<li>TRUE</li>\n",
       "\t<li>TRUE</li>\n",
       "\t<li>TRUE</li>\n",
       "\t<li>TRUE</li>\n",
       "\t<li>TRUE</li>\n",
       "\t<li>TRUE</li>\n",
       "\t<li>TRUE</li>\n",
       "\t<li>TRUE</li>\n",
       "\t<li>TRUE</li>\n",
       "\t<li>TRUE</li>\n",
       "\t<li>TRUE</li>\n",
       "\t<li>TRUE</li>\n",
       "\t<li>TRUE</li>\n",
       "\t<li>TRUE</li>\n",
       "\t<li>TRUE</li>\n",
       "\t<li>TRUE</li>\n",
       "\t<li>TRUE</li>\n",
       "\t<li>TRUE</li>\n",
       "\t<li>TRUE</li>\n",
       "\t<li>TRUE</li>\n",
       "\t<li>TRUE</li>\n",
       "\t<li>TRUE</li>\n",
       "\t<li>TRUE</li>\n",
       "\t<li>TRUE</li>\n",
       "\t<li>TRUE</li>\n",
       "\t<li>TRUE</li>\n",
       "\t<li>TRUE</li>\n",
       "\t<li>TRUE</li>\n",
       "\t<li>TRUE</li>\n",
       "\t<li>TRUE</li>\n",
       "\t<li>TRUE</li>\n",
       "\t<li>TRUE</li>\n",
       "\t<li>TRUE</li>\n",
       "\t<li>TRUE</li>\n",
       "\t<li>TRUE</li>\n",
       "\t<li>TRUE</li>\n",
       "\t<li>TRUE</li>\n",
       "\t<li>TRUE</li>\n",
       "\t<li>TRUE</li>\n",
       "\t<li>TRUE</li>\n",
       "\t<li>TRUE</li>\n",
       "\t<li>TRUE</li>\n",
       "</ol>\n"
      ],
      "text/latex": [
       "\\begin{enumerate*}\n",
       "\\item TRUE\n",
       "\\item TRUE\n",
       "\\item TRUE\n",
       "\\item TRUE\n",
       "\\item TRUE\n",
       "\\item TRUE\n",
       "\\item TRUE\n",
       "\\item TRUE\n",
       "\\item TRUE\n",
       "\\item TRUE\n",
       "\\item TRUE\n",
       "\\item TRUE\n",
       "\\item TRUE\n",
       "\\item TRUE\n",
       "\\item TRUE\n",
       "\\item TRUE\n",
       "\\item TRUE\n",
       "\\item TRUE\n",
       "\\item TRUE\n",
       "\\item TRUE\n",
       "\\item TRUE\n",
       "\\item TRUE\n",
       "\\item TRUE\n",
       "\\item TRUE\n",
       "\\item TRUE\n",
       "\\item TRUE\n",
       "\\item TRUE\n",
       "\\item TRUE\n",
       "\\item TRUE\n",
       "\\item TRUE\n",
       "\\item TRUE\n",
       "\\item TRUE\n",
       "\\item TRUE\n",
       "\\item TRUE\n",
       "\\item TRUE\n",
       "\\item TRUE\n",
       "\\item TRUE\n",
       "\\item TRUE\n",
       "\\item TRUE\n",
       "\\item TRUE\n",
       "\\item TRUE\n",
       "\\item TRUE\n",
       "\\item TRUE\n",
       "\\item TRUE\n",
       "\\item TRUE\n",
       "\\item TRUE\n",
       "\\item TRUE\n",
       "\\item TRUE\n",
       "\\item TRUE\n",
       "\\item TRUE\n",
       "\\item TRUE\n",
       "\\item TRUE\n",
       "\\item TRUE\n",
       "\\item TRUE\n",
       "\\item TRUE\n",
       "\\item TRUE\n",
       "\\item TRUE\n",
       "\\item TRUE\n",
       "\\item TRUE\n",
       "\\item TRUE\n",
       "\\item TRUE\n",
       "\\item TRUE\n",
       "\\item TRUE\n",
       "\\item TRUE\n",
       "\\item TRUE\n",
       "\\item TRUE\n",
       "\\item TRUE\n",
       "\\item TRUE\n",
       "\\item TRUE\n",
       "\\item TRUE\n",
       "\\item TRUE\n",
       "\\item TRUE\n",
       "\\item TRUE\n",
       "\\item TRUE\n",
       "\\end{enumerate*}\n"
      ],
      "text/markdown": [
       "1. TRUE\n",
       "2. TRUE\n",
       "3. TRUE\n",
       "4. TRUE\n",
       "5. TRUE\n",
       "6. TRUE\n",
       "7. TRUE\n",
       "8. TRUE\n",
       "9. TRUE\n",
       "10. TRUE\n",
       "11. TRUE\n",
       "12. TRUE\n",
       "13. TRUE\n",
       "14. TRUE\n",
       "15. TRUE\n",
       "16. TRUE\n",
       "17. TRUE\n",
       "18. TRUE\n",
       "19. TRUE\n",
       "20. TRUE\n",
       "21. TRUE\n",
       "22. TRUE\n",
       "23. TRUE\n",
       "24. TRUE\n",
       "25. TRUE\n",
       "26. TRUE\n",
       "27. TRUE\n",
       "28. TRUE\n",
       "29. TRUE\n",
       "30. TRUE\n",
       "31. TRUE\n",
       "32. TRUE\n",
       "33. TRUE\n",
       "34. TRUE\n",
       "35. TRUE\n",
       "36. TRUE\n",
       "37. TRUE\n",
       "38. TRUE\n",
       "39. TRUE\n",
       "40. TRUE\n",
       "41. TRUE\n",
       "42. TRUE\n",
       "43. TRUE\n",
       "44. TRUE\n",
       "45. TRUE\n",
       "46. TRUE\n",
       "47. TRUE\n",
       "48. TRUE\n",
       "49. TRUE\n",
       "50. TRUE\n",
       "51. TRUE\n",
       "52. TRUE\n",
       "53. TRUE\n",
       "54. TRUE\n",
       "55. TRUE\n",
       "56. TRUE\n",
       "57. TRUE\n",
       "58. TRUE\n",
       "59. TRUE\n",
       "60. TRUE\n",
       "61. TRUE\n",
       "62. TRUE\n",
       "63. TRUE\n",
       "64. TRUE\n",
       "65. TRUE\n",
       "66. TRUE\n",
       "67. TRUE\n",
       "68. TRUE\n",
       "69. TRUE\n",
       "70. TRUE\n",
       "71. TRUE\n",
       "72. TRUE\n",
       "73. TRUE\n",
       "74. TRUE\n",
       "\n",
       "\n"
      ],
      "text/plain": [
       " [1] TRUE TRUE TRUE TRUE TRUE TRUE TRUE TRUE TRUE TRUE TRUE TRUE TRUE TRUE TRUE\n",
       "[16] TRUE TRUE TRUE TRUE TRUE TRUE TRUE TRUE TRUE TRUE TRUE TRUE TRUE TRUE TRUE\n",
       "[31] TRUE TRUE TRUE TRUE TRUE TRUE TRUE TRUE TRUE TRUE TRUE TRUE TRUE TRUE TRUE\n",
       "[46] TRUE TRUE TRUE TRUE TRUE TRUE TRUE TRUE TRUE TRUE TRUE TRUE TRUE TRUE TRUE\n",
       "[61] TRUE TRUE TRUE TRUE TRUE TRUE TRUE TRUE TRUE TRUE TRUE TRUE TRUE TRUE"
      ]
     },
     "metadata": {},
     "output_type": "display_data"
    }
   ],
   "source": [
    "present <-  present %>% \n",
    "                mutate(more_boys=boys>girls)\n",
    "present$more_boys"
   ]
  },
  {
   "cell_type": "code",
   "execution_count": 76,
   "metadata": {
    "collapsed": false
   },
   "outputs": [
    {
     "data": {
      "text/html": [
       "<table>\n",
       "<thead><tr><th scope=col>year</th><th scope=col>boys</th><th scope=col>girls</th><th scope=col>prop_boys</th><th scope=col>more_boys</th><th scope=col>diff</th></tr></thead>\n",
       "<tbody>\n",
       "\t<tr><td>1940     </td><td>1211684  </td><td>1148715  </td><td>0.5133386</td><td>TRUE     </td><td>62969    </td></tr>\n",
       "\t<tr><td>1941     </td><td>1289734  </td><td>1223693  </td><td>0.5131376</td><td>TRUE     </td><td>66041    </td></tr>\n",
       "\t<tr><td>1942     </td><td>1444365  </td><td>1364631  </td><td>0.5141926</td><td>TRUE     </td><td>79734    </td></tr>\n",
       "\t<tr><td>1943     </td><td>1508959  </td><td>1427901  </td><td>0.5138001</td><td>TRUE     </td><td>81058    </td></tr>\n",
       "\t<tr><td>1944     </td><td>1435301  </td><td>1359499  </td><td>0.5135613</td><td>TRUE     </td><td>75802    </td></tr>\n",
       "\t<tr><td>1945     </td><td>1404587  </td><td>1330869  </td><td>0.5134745</td><td>TRUE     </td><td>73718    </td></tr>\n",
       "</tbody>\n",
       "</table>\n"
      ],
      "text/latex": [
       "\\begin{tabular}{r|llllll}\n",
       " year & boys & girls & prop\\_boys & more\\_boys & diff\\\\\n",
       "\\hline\n",
       "\t 1940      & 1211684   & 1148715   & 0.5133386 & TRUE      & 62969    \\\\\n",
       "\t 1941      & 1289734   & 1223693   & 0.5131376 & TRUE      & 66041    \\\\\n",
       "\t 1942      & 1444365   & 1364631   & 0.5141926 & TRUE      & 79734    \\\\\n",
       "\t 1943      & 1508959   & 1427901   & 0.5138001 & TRUE      & 81058    \\\\\n",
       "\t 1944      & 1435301   & 1359499   & 0.5135613 & TRUE      & 75802    \\\\\n",
       "\t 1945      & 1404587   & 1330869   & 0.5134745 & TRUE      & 73718    \\\\\n",
       "\\end{tabular}\n"
      ],
      "text/markdown": [
       "\n",
       "year | boys | girls | prop_boys | more_boys | diff | \n",
       "|---|---|---|---|---|---|\n",
       "| 1940      | 1211684   | 1148715   | 0.5133386 | TRUE      | 62969     | \n",
       "| 1941      | 1289734   | 1223693   | 0.5131376 | TRUE      | 66041     | \n",
       "| 1942      | 1444365   | 1364631   | 0.5141926 | TRUE      | 79734     | \n",
       "| 1943      | 1508959   | 1427901   | 0.5138001 | TRUE      | 81058     | \n",
       "| 1944      | 1435301   | 1359499   | 0.5135613 | TRUE      | 75802     | \n",
       "| 1945      | 1404587   | 1330869   | 0.5134745 | TRUE      | 73718     | \n",
       "\n",
       "\n"
      ],
      "text/plain": [
       "  year boys    girls   prop_boys more_boys diff \n",
       "1 1940 1211684 1148715 0.5133386 TRUE      62969\n",
       "2 1941 1289734 1223693 0.5131376 TRUE      66041\n",
       "3 1942 1444365 1364631 0.5141926 TRUE      79734\n",
       "4 1943 1508959 1427901 0.5138001 TRUE      81058\n",
       "5 1944 1435301 1359499 0.5135613 TRUE      75802\n",
       "6 1945 1404587 1330869 0.5134745 TRUE      73718"
      ]
     },
     "metadata": {},
     "output_type": "display_data"
    },
    {
     "data": {},
     "metadata": {},
     "output_type": "display_data"
    },
    {
     "data": {
      "image/png": "[encoded data removed]",
      "text/plain": [
       "plot without title"
      ]
     },
     "metadata": {},
     "output_type": "display_data"
    }
   ],
   "source": [
    "present <-  present %>% \n",
    "                mutate(diff=boys-girls)\n",
    "head(present)\n",
    "\n",
    "ggplot(data=present,aes(x=year,y=diff)) +geom_point() +geom_line()"
   ]
  },
  {
   "cell_type": "markdown",
   "metadata": {},
   "source": [
    "Q. Calculate the boy-to-girl ratio each year, and store these values in a new variable called `prop_boy_girl` in the `present` dataset. Plot these values over time. Which of the following best describes the trend? \n",
    "<ol>\n",
    "<li> There appears to be no trend in the boy-to-girl ratio from 1940 to 2013. </li>\n",
    "<li> There is initially an increase in boy-to-girl ratio, which peaks around 1960. After 1960 there is a decrease in the boy-to-girl ratio, but the number begins to increase in the mid 1970s. </li>\n",
    "<li> There is initially a decrease in the boy-to-girl ratio, and then an increase between 1960 and 1970, followed by a decrease. </li>\n",
    "<li> The boy-to-girl ratio has increased over time. </li>\n",
    "<li> There is an initial decrease in the boy-to-girl ratio born but this number appears to level around 1960 and remain constant since then. </li>\n",
    "</ol>"
   ]
  },
  {
   "cell_type": "code",
   "execution_count": 79,
   "metadata": {
    "collapsed": false
   },
   "outputs": [
    {
     "data": {},
     "metadata": {},
     "output_type": "display_data"
    },
    {
     "data": {
      "image/png": "[encoded data removed]",
      "text/plain": [
       "plot without title"
      ]
     },
     "metadata": {},
     "output_type": "display_data"
    }
   ],
   "source": [
    "present <- present %>% \n",
    "                mutate(prop_boy_girl=boys/girls)\n",
    "ggplot(data=present,aes(x=year,y=prop_boy_girl))+geom_line()+geom_point()"
   ]
  },
  {
   "cell_type": "markdown",
   "metadata": {},
   "source": [
    "Q. In what year did we see the most total number of births in the U.S.? *Hint:* Sort \n",
    "your dataset in descending order based on the `total` column. You can do this \n",
    "interactively in the data viewer by clicking on the arrows next to the variable \n",
    "names. Or to arrange the data in a descenting order with new function: `descr` (for \n",
    "descending order).\n",
    "<ol>\n",
    "<li> 1940 </li>\n",
    "<li> 1957 </li>\n",
    "<li> 1961 </li>\n",
    "<li> 1991 </li>\n",
    "<li> 2007 </li>\n",
    "</ol>"
   ]
  },
  {
   "cell_type": "code",
   "execution_count": 80,
   "metadata": {
    "collapsed": false
   },
   "outputs": [
    {
     "data": {
      "text/html": [
       "<table>\n",
       "<thead><tr><th scope=col>year</th><th scope=col>boys</th><th scope=col>girls</th><th scope=col>prop_boys</th><th scope=col>more_boys</th><th scope=col>diff</th><th scope=col>prop_boy_girl</th><th scope=col>total</th></tr></thead>\n",
       "<tbody>\n",
       "\t<tr><td>2007     </td><td>2208071  </td><td>2108162  </td><td>0.5115736</td><td>TRUE     </td><td> 99909   </td><td>1.047392 </td><td>4316233  </td></tr>\n",
       "\t<tr><td>1961     </td><td>2186274  </td><td>2082052  </td><td>0.5122088</td><td>TRUE     </td><td>104222   </td><td>1.050057 </td><td>4268326  </td></tr>\n",
       "\t<tr><td>2006     </td><td>2184237  </td><td>2081318  </td><td>0.5120640</td><td>TRUE     </td><td>102919   </td><td>1.049449 </td><td>4265555  </td></tr>\n",
       "\t<tr><td>1960     </td><td>2179708  </td><td>2078142  </td><td>0.5119269</td><td>TRUE     </td><td>101566   </td><td>1.048873 </td><td>4257850  </td></tr>\n",
       "\t<tr><td>1957     </td><td>2179960  </td><td>2074824  </td><td>0.5123550</td><td>TRUE     </td><td>105136   </td><td>1.050672 </td><td>4254784  </td></tr>\n",
       "\t<tr><td>2008     </td><td>2173625  </td><td>2074069  </td><td>0.5117188</td><td>TRUE     </td><td> 99556   </td><td>1.048000 </td><td>4247694  </td></tr>\n",
       "\t<tr><td>1959     </td><td>2173638  </td><td>2071158  </td><td>0.5120713</td><td>TRUE     </td><td>102480   </td><td>1.049480 </td><td>4244796  </td></tr>\n",
       "\t<tr><td>1958     </td><td>2152546  </td><td>2051266  </td><td>0.5120462</td><td>TRUE     </td><td>101280   </td><td>1.049374 </td><td>4203812  </td></tr>\n",
       "\t<tr><td>1962     </td><td>2132466  </td><td>2034896  </td><td>0.5117064</td><td>TRUE     </td><td> 97570   </td><td>1.047948 </td><td>4167362  </td></tr>\n",
       "\t<tr><td>1956     </td><td>2133588  </td><td>2029502  </td><td>0.5125011</td><td>TRUE     </td><td>104086   </td><td>1.051286 </td><td>4163090  </td></tr>\n",
       "\t<tr><td>1990     </td><td>2129495  </td><td>2028717  </td><td>0.5121179</td><td>TRUE     </td><td>100778   </td><td>1.049676 </td><td>4158212  </td></tr>\n",
       "\t<tr><td>2005     </td><td>2118982  </td><td>2019367  </td><td>0.5120356</td><td>TRUE     </td><td> 99615   </td><td>1.049330 </td><td>4138349  </td></tr>\n",
       "\t<tr><td>2009     </td><td>2113739  </td><td>2016926  </td><td>0.5117188</td><td>TRUE     </td><td> 96813   </td><td>1.048000 </td><td>4130665  </td></tr>\n",
       "\t<tr><td>2004     </td><td>2104661  </td><td>2007391  </td><td>0.5118274</td><td>TRUE     </td><td> 97270   </td><td>1.048456 </td><td>4112052  </td></tr>\n",
       "\t<tr><td>1991     </td><td>2101518  </td><td>2009389  </td><td>0.5112054</td><td>TRUE     </td><td> 92129   </td><td>1.045849 </td><td>4110907  </td></tr>\n",
       "\t<tr><td>1963     </td><td>2101632  </td><td>1996388  </td><td>0.5128408</td><td>TRUE     </td><td>105244   </td><td>1.052717 </td><td>4098020  </td></tr>\n",
       "\t<tr><td>2003     </td><td>2093535  </td><td>1996415  </td><td>0.5118730</td><td>TRUE     </td><td> 97120   </td><td>1.048647 </td><td>4089950  </td></tr>\n",
       "\t<tr><td>1992     </td><td>2082097  </td><td>1982917  </td><td>0.5121992</td><td>TRUE     </td><td> 99180   </td><td>1.050017 </td><td>4065014  </td></tr>\n",
       "\t<tr><td>2000     </td><td>2076969  </td><td>1981845  </td><td>0.5117182</td><td>TRUE     </td><td> 95124   </td><td>1.047998 </td><td>4058814  </td></tr>\n",
       "\t<tr><td>1955     </td><td>2073719  </td><td>1973576  </td><td>0.5123716</td><td>TRUE     </td><td>100143   </td><td>1.050742 </td><td>4047295  </td></tr>\n",
       "\t<tr><td>1989     </td><td>2069490  </td><td>1971468  </td><td>0.5121286</td><td>TRUE     </td><td> 98022   </td><td>1.049720 </td><td>4040958  </td></tr>\n",
       "\t<tr><td>1964     </td><td>2060162  </td><td>1967328  </td><td>0.5115250</td><td>TRUE     </td><td> 92834   </td><td>1.047188 </td><td>4027490  </td></tr>\n",
       "\t<tr><td>2001     </td><td>2057922  </td><td>1968011  </td><td>0.5111665</td><td>TRUE     </td><td> 89911   </td><td>1.045686 </td><td>4025933  </td></tr>\n",
       "\t<tr><td>2002     </td><td>2057979  </td><td>1963747  </td><td>0.5117154</td><td>TRUE     </td><td> 94232   </td><td>1.047986 </td><td>4021726  </td></tr>\n",
       "\t<tr><td>1954     </td><td>2059068  </td><td>1958294  </td><td>0.5125423</td><td>TRUE     </td><td>100774   </td><td>1.051460 </td><td>4017362  </td></tr>\n",
       "\t<tr><td>1993     </td><td>2048861  </td><td>1951379  </td><td>0.5121845</td><td>TRUE     </td><td> 97482   </td><td>1.049955 </td><td>4000240  </td></tr>\n",
       "\t<tr><td>2010     </td><td>2046561  </td><td>1952825  </td><td>0.5117188</td><td>TRUE     </td><td> 93736   </td><td>1.048000 </td><td>3999386  </td></tr>\n",
       "\t<tr><td>1999     </td><td>2026854  </td><td>1932563  </td><td>0.5119072</td><td>TRUE     </td><td> 94291   </td><td>1.048791 </td><td>3959417  </td></tr>\n",
       "\t<tr><td>2011     </td><td>2024068  </td><td>1929522  </td><td>0.5119570</td><td>TRUE     </td><td> 94546   </td><td>1.049000 </td><td>3953590  </td></tr>\n",
       "\t<tr><td>2012     </td><td>2021800  </td><td>1931041  </td><td>0.5114802</td><td>TRUE     </td><td> 90759   </td><td>1.047000 </td><td>3952841  </td></tr>\n",
       "\t<tr><td>...</td><td>...</td><td>...</td><td>...</td><td>...</td><td>...</td><td>...</td><td>...</td></tr>\n",
       "\t<tr><td>1970     </td><td>1915378  </td><td>1816008  </td><td>0.5133154</td><td>TRUE     </td><td>99370    </td><td>1.054719 </td><td>3731386  </td></tr>\n",
       "\t<tr><td>1947     </td><td>1899876  </td><td>1800064  </td><td>0.5134883</td><td>TRUE     </td><td>99812    </td><td>1.055449 </td><td>3699940  </td></tr>\n",
       "\t<tr><td>1982     </td><td>1885676  </td><td>1794861  </td><td>0.5123372</td><td>TRUE     </td><td>90815    </td><td>1.050597 </td><td>3680537  </td></tr>\n",
       "\t<tr><td>1984     </td><td>1879490  </td><td>1789651  </td><td>0.5122425</td><td>TRUE     </td><td>89839    </td><td>1.050199 </td><td>3669141  </td></tr>\n",
       "\t<tr><td>1983     </td><td>1865553  </td><td>1773380  </td><td>0.5126648</td><td>TRUE     </td><td>92173    </td><td>1.051976 </td><td>3638933  </td></tr>\n",
       "\t<tr><td>1981     </td><td>1860272  </td><td>1768966  </td><td>0.5125792</td><td>TRUE     </td><td>91306    </td><td>1.051615 </td><td>3629238  </td></tr>\n",
       "\t<tr><td>1980     </td><td>1852616  </td><td>1759642  </td><td>0.5128692</td><td>TRUE     </td><td>92974    </td><td>1.052837 </td><td>3612258  </td></tr>\n",
       "\t<tr><td>1966     </td><td>1845862  </td><td>1760412  </td><td>0.5118474</td><td>TRUE     </td><td>85450    </td><td>1.048540 </td><td>3606274  </td></tr>\n",
       "\t<tr><td>1969     </td><td>1846572  </td><td>1753634  </td><td>0.5129073</td><td>TRUE     </td><td>92938    </td><td>1.052997 </td><td>3600206  </td></tr>\n",
       "\t<tr><td>1949     </td><td>1826352  </td><td>1733177  </td><td>0.5130881</td><td>TRUE     </td><td>93175    </td><td>1.053760 </td><td>3559529  </td></tr>\n",
       "\t<tr><td>1971     </td><td>1822910  </td><td>1733060  </td><td>0.5126337</td><td>TRUE     </td><td>89850    </td><td>1.051845 </td><td>3555970  </td></tr>\n",
       "\t<tr><td>1950     </td><td>1823555  </td><td>1730594  </td><td>0.5130778</td><td>TRUE     </td><td>92961    </td><td>1.053716 </td><td>3554149  </td></tr>\n",
       "\t<tr><td>1948     </td><td>1813852  </td><td>1721216  </td><td>0.5131024</td><td>TRUE     </td><td>92636    </td><td>1.053820 </td><td>3535068  </td></tr>\n",
       "\t<tr><td>1967     </td><td>1803388  </td><td>1717571  </td><td>0.5121866</td><td>TRUE     </td><td>85817    </td><td>1.049964 </td><td>3520959  </td></tr>\n",
       "\t<tr><td>1968     </td><td>1796326  </td><td>1705238  </td><td>0.5130068</td><td>TRUE     </td><td>91088    </td><td>1.053417 </td><td>3501564  </td></tr>\n",
       "\t<tr><td>1979     </td><td>1791267  </td><td>1703131  </td><td>0.5126110</td><td>TRUE     </td><td>88136    </td><td>1.051749 </td><td>3494398  </td></tr>\n",
       "\t<tr><td>1978     </td><td>1709394  </td><td>1623885  </td><td>0.5128266</td><td>TRUE     </td><td>85509    </td><td>1.052657 </td><td>3333279  </td></tr>\n",
       "\t<tr><td>1977     </td><td>1705916  </td><td>1620716  </td><td>0.5128057</td><td>TRUE     </td><td>85200    </td><td>1.052569 </td><td>3326632  </td></tr>\n",
       "\t<tr><td>1946     </td><td>1691220  </td><td>1597452  </td><td>0.5142562</td><td>TRUE     </td><td>93768    </td><td>1.058698 </td><td>3288672  </td></tr>\n",
       "\t<tr><td>1972     </td><td>1669927  </td><td>1588484  </td><td>0.5124973</td><td>TRUE     </td><td>81443    </td><td>1.051271 </td><td>3258411  </td></tr>\n",
       "\t<tr><td>1976     </td><td>1624436  </td><td>1543352  </td><td>0.5127982</td><td>TRUE     </td><td>81084    </td><td>1.052538 </td><td>3167788  </td></tr>\n",
       "\t<tr><td>1974     </td><td>1622114  </td><td>1537844  </td><td>0.5133340</td><td>TRUE     </td><td>84270    </td><td>1.054797 </td><td>3159958  </td></tr>\n",
       "\t<tr><td>1975     </td><td>1613135  </td><td>1531063  </td><td>0.5130513</td><td>TRUE     </td><td>82072    </td><td>1.053605 </td><td>3144198  </td></tr>\n",
       "\t<tr><td>1973     </td><td>1608326  </td><td>1528639  </td><td>0.5127013</td><td>TRUE     </td><td>79687    </td><td>1.052129 </td><td>3136965  </td></tr>\n",
       "\t<tr><td>1943     </td><td>1508959  </td><td>1427901  </td><td>0.5138001</td><td>TRUE     </td><td>81058    </td><td>1.056767 </td><td>2936860  </td></tr>\n",
       "\t<tr><td>1942     </td><td>1444365  </td><td>1364631  </td><td>0.5141926</td><td>TRUE     </td><td>79734    </td><td>1.058429 </td><td>2808996  </td></tr>\n",
       "\t<tr><td>1944     </td><td>1435301  </td><td>1359499  </td><td>0.5135613</td><td>TRUE     </td><td>75802    </td><td>1.055757 </td><td>2794800  </td></tr>\n",
       "\t<tr><td>1945     </td><td>1404587  </td><td>1330869  </td><td>0.5134745</td><td>TRUE     </td><td>73718    </td><td>1.055391 </td><td>2735456  </td></tr>\n",
       "\t<tr><td>1941     </td><td>1289734  </td><td>1223693  </td><td>0.5131376</td><td>TRUE     </td><td>66041    </td><td>1.053969 </td><td>2513427  </td></tr>\n",
       "\t<tr><td>1940     </td><td>1211684  </td><td>1148715  </td><td>0.5133386</td><td>TRUE     </td><td>62969    </td><td>1.054817 </td><td>2360399  </td></tr>\n",
       "</tbody>\n",
       "</table>\n"
      ],
      "text/latex": [
       "\\begin{tabular}{r|llllllll}\n",
       " year & boys & girls & prop\\_boys & more\\_boys & diff & prop\\_boy\\_girl & total\\\\\n",
       "\\hline\n",
       "\t 2007      & 2208071   & 2108162   & 0.5115736 & TRUE      &  99909    & 1.047392  & 4316233  \\\\\n",
       "\t 1961      & 2186274   & 2082052   & 0.5122088 & TRUE      & 104222    & 1.050057  & 4268326  \\\\\n",
       "\t 2006      & 2184237   & 2081318   & 0.5120640 & TRUE      & 102919    & 1.049449  & 4265555  \\\\\n",
       "\t 1960      & 2179708   & 2078142   & 0.5119269 & TRUE      & 101566    & 1.048873  & 4257850  \\\\\n",
       "\t 1957      & 2179960   & 2074824   & 0.5123550 & TRUE      & 105136    & 1.050672  & 4254784  \\\\\n",
       "\t 2008      & 2173625   & 2074069   & 0.5117188 & TRUE      &  99556    & 1.048000  & 4247694  \\\\\n",
       "\t 1959      & 2173638   & 2071158   & 0.5120713 & TRUE      & 102480    & 1.049480  & 4244796  \\\\\n",
       "\t 1958      & 2152546   & 2051266   & 0.5120462 & TRUE      & 101280    & 1.049374  & 4203812  \\\\\n",
       "\t 1962      & 2132466   & 2034896   & 0.5117064 & TRUE      &  97570    & 1.047948  & 4167362  \\\\\n",
       "\t 1956      & 2133588   & 2029502   & 0.5125011 & TRUE      & 104086    & 1.051286  & 4163090  \\\\\n",
       "\t 1990      & 2129495   & 2028717   & 0.5121179 & TRUE      & 100778    & 1.049676  & 4158212  \\\\\n",
       "\t 2005      & 2118982   & 2019367   & 0.5120356 & TRUE      &  99615    & 1.049330  & 4138349  \\\\\n",
       "\t 2009      & 2113739   & 2016926   & 0.5117188 & TRUE      &  96813    & 1.048000  & 4130665  \\\\\n",
       "\t 2004      & 2104661   & 2007391   & 0.5118274 & TRUE      &  97270    & 1.048456  & 4112052  \\\\\n",
       "\t 1991      & 2101518   & 2009389   & 0.5112054 & TRUE      &  92129    & 1.045849  & 4110907  \\\\\n",
       "\t 1963      & 2101632   & 1996388   & 0.5128408 & TRUE      & 105244    & 1.052717  & 4098020  \\\\\n",
       "\t 2003      & 2093535   & 1996415   & 0.5118730 & TRUE      &  97120    & 1.048647  & 4089950  \\\\\n",
       "\t 1992      & 2082097   & 1982917   & 0.5121992 & TRUE      &  99180    & 1.050017  & 4065014  \\\\\n",
       "\t 2000      & 2076969   & 1981845   & 0.5117182 & TRUE      &  95124    & 1.047998  & 4058814  \\\\\n",
       "\t 1955      & 2073719   & 1973576   & 0.5123716 & TRUE      & 100143    & 1.050742  & 4047295  \\\\\n",
       "\t 1989      & 2069490   & 1971468   & 0.5121286 & TRUE      &  98022    & 1.049720  & 4040958  \\\\\n",
       "\t 1964      & 2060162   & 1967328   & 0.5115250 & TRUE      &  92834    & 1.047188  & 4027490  \\\\\n",
       "\t 2001      & 2057922   & 1968011   & 0.5111665 & TRUE      &  89911    & 1.045686  & 4025933  \\\\\n",
       "\t 2002      & 2057979   & 1963747   & 0.5117154 & TRUE      &  94232    & 1.047986  & 4021726  \\\\\n",
       "\t 1954      & 2059068   & 1958294   & 0.5125423 & TRUE      & 100774    & 1.051460  & 4017362  \\\\\n",
       "\t 1993      & 2048861   & 1951379   & 0.5121845 & TRUE      &  97482    & 1.049955  & 4000240  \\\\\n",
       "\t 2010      & 2046561   & 1952825   & 0.5117188 & TRUE      &  93736    & 1.048000  & 3999386  \\\\\n",
       "\t 1999      & 2026854   & 1932563   & 0.5119072 & TRUE      &  94291    & 1.048791  & 3959417  \\\\\n",
       "\t 2011      & 2024068   & 1929522   & 0.5119570 & TRUE      &  94546    & 1.049000  & 3953590  \\\\\n",
       "\t 2012      & 2021800   & 1931041   & 0.5114802 & TRUE      &  90759    & 1.047000  & 3952841  \\\\\n",
       "\t ... & ... & ... & ... & ... & ... & ... & ...\\\\\n",
       "\t 1970      & 1915378   & 1816008   & 0.5133154 & TRUE      & 99370     & 1.054719  & 3731386  \\\\\n",
       "\t 1947      & 1899876   & 1800064   & 0.5134883 & TRUE      & 99812     & 1.055449  & 3699940  \\\\\n",
       "\t 1982      & 1885676   & 1794861   & 0.5123372 & TRUE      & 90815     & 1.050597  & 3680537  \\\\\n",
       "\t 1984      & 1879490   & 1789651   & 0.5122425 & TRUE      & 89839     & 1.050199  & 3669141  \\\\\n",
       "\t 1983      & 1865553   & 1773380   & 0.5126648 & TRUE      & 92173     & 1.051976  & 3638933  \\\\\n",
       "\t 1981      & 1860272   & 1768966   & 0.5125792 & TRUE      & 91306     & 1.051615  & 3629238  \\\\\n",
       "\t 1980      & 1852616   & 1759642   & 0.5128692 & TRUE      & 92974     & 1.052837  & 3612258  \\\\\n",
       "\t 1966      & 1845862   & 1760412   & 0.5118474 & TRUE      & 85450     & 1.048540  & 3606274  \\\\\n",
       "\t 1969      & 1846572   & 1753634   & 0.5129073 & TRUE      & 92938     & 1.052997  & 3600206  \\\\\n",
       "\t 1949      & 1826352   & 1733177   & 0.5130881 & TRUE      & 93175     & 1.053760  & 3559529  \\\\\n",
       "\t 1971      & 1822910   & 1733060   & 0.5126337 & TRUE      & 89850     & 1.051845  & 3555970  \\\\\n",
       "\t 1950      & 1823555   & 1730594   & 0.5130778 & TRUE      & 92961     & 1.053716  & 3554149  \\\\\n",
       "\t 1948      & 1813852   & 1721216   & 0.5131024 & TRUE      & 92636     & 1.053820  & 3535068  \\\\\n",
       "\t 1967      & 1803388   & 1717571   & 0.5121866 & TRUE      & 85817     & 1.049964  & 3520959  \\\\\n",
       "\t 1968      & 1796326   & 1705238   & 0.5130068 & TRUE      & 91088     & 1.053417  & 3501564  \\\\\n",
       "\t 1979      & 1791267   & 1703131   & 0.5126110 & TRUE      & 88136     & 1.051749  & 3494398  \\\\\n",
       "\t 1978      & 1709394   & 1623885   & 0.5128266 & TRUE      & 85509     & 1.052657  & 3333279  \\\\\n",
       "\t 1977      & 1705916   & 1620716   & 0.5128057 & TRUE      & 85200     & 1.052569  & 3326632  \\\\\n",
       "\t 1946      & 1691220   & 1597452   & 0.5142562 & TRUE      & 93768     & 1.058698  & 3288672  \\\\\n",
       "\t 1972      & 1669927   & 1588484   & 0.5124973 & TRUE      & 81443     & 1.051271  & 3258411  \\\\\n",
       "\t 1976      & 1624436   & 1543352   & 0.5127982 & TRUE      & 81084     & 1.052538  & 3167788  \\\\\n",
       "\t 1974      & 1622114   & 1537844   & 0.5133340 & TRUE      & 84270     & 1.054797  & 3159958  \\\\\n",
       "\t 1975      & 1613135   & 1531063   & 0.5130513 & TRUE      & 82072     & 1.053605  & 3144198  \\\\\n",
       "\t 1973      & 1608326   & 1528639   & 0.5127013 & TRUE      & 79687     & 1.052129  & 3136965  \\\\\n",
       "\t 1943      & 1508959   & 1427901   & 0.5138001 & TRUE      & 81058     & 1.056767  & 2936860  \\\\\n",
       "\t 1942      & 1444365   & 1364631   & 0.5141926 & TRUE      & 79734     & 1.058429  & 2808996  \\\\\n",
       "\t 1944      & 1435301   & 1359499   & 0.5135613 & TRUE      & 75802     & 1.055757  & 2794800  \\\\\n",
       "\t 1945      & 1404587   & 1330869   & 0.5134745 & TRUE      & 73718     & 1.055391  & 2735456  \\\\\n",
       "\t 1941      & 1289734   & 1223693   & 0.5131376 & TRUE      & 66041     & 1.053969  & 2513427  \\\\\n",
       "\t 1940      & 1211684   & 1148715   & 0.5133386 & TRUE      & 62969     & 1.054817  & 2360399  \\\\\n",
       "\\end{tabular}\n"
      ],
      "text/markdown": [
       "\n",
       "year | boys | girls | prop_boys | more_boys | diff | prop_boy_girl | total | \n",
       "|---|---|---|---|---|---|---|---|---|---|---|---|---|---|---|---|---|---|---|---|---|---|---|---|---|---|---|---|---|---|---|---|---|---|---|---|---|---|---|---|---|---|---|---|---|---|---|---|---|---|---|---|---|---|---|---|---|---|---|---|---|\n",
       "| 2007      | 2208071   | 2108162   | 0.5115736 | TRUE      |  99909    | 1.047392  | 4316233   | \n",
       "| 1961      | 2186274   | 2082052   | 0.5122088 | TRUE      | 104222    | 1.050057  | 4268326   | \n",
       "| 2006      | 2184237   | 2081318   | 0.5120640 | TRUE      | 102919    | 1.049449  | 4265555   | \n",
       "| 1960      | 2179708   | 2078142   | 0.5119269 | TRUE      | 101566    | 1.048873  | 4257850   | \n",
       "| 1957      | 2179960   | 2074824   | 0.5123550 | TRUE      | 105136    | 1.050672  | 4254784   | \n",
       "| 2008      | 2173625   | 2074069   | 0.5117188 | TRUE      |  99556    | 1.048000  | 4247694   | \n",
       "| 1959      | 2173638   | 2071158   | 0.5120713 | TRUE      | 102480    | 1.049480  | 4244796   | \n",
       "| 1958      | 2152546   | 2051266   | 0.5120462 | TRUE      | 101280    | 1.049374  | 4203812   | \n",
       "| 1962      | 2132466   | 2034896   | 0.5117064 | TRUE      |  97570    | 1.047948  | 4167362   | \n",
       "| 1956      | 2133588   | 2029502   | 0.5125011 | TRUE      | 104086    | 1.051286  | 4163090   | \n",
       "| 1990      | 2129495   | 2028717   | 0.5121179 | TRUE      | 100778    | 1.049676  | 4158212   | \n",
       "| 2005      | 2118982   | 2019367   | 0.5120356 | TRUE      |  99615    | 1.049330  | 4138349   | \n",
       "| 2009      | 2113739   | 2016926   | 0.5117188 | TRUE      |  96813    | 1.048000  | 4130665   | \n",
       "| 2004      | 2104661   | 2007391   | 0.5118274 | TRUE      |  97270    | 1.048456  | 4112052   | \n",
       "| 1991      | 2101518   | 2009389   | 0.5112054 | TRUE      |  92129    | 1.045849  | 4110907   | \n",
       "| 1963      | 2101632   | 1996388   | 0.5128408 | TRUE      | 105244    | 1.052717  | 4098020   | \n",
       "| 2003      | 2093535   | 1996415   | 0.5118730 | TRUE      |  97120    | 1.048647  | 4089950   | \n",
       "| 1992      | 2082097   | 1982917   | 0.5121992 | TRUE      |  99180    | 1.050017  | 4065014   | \n",
       "| 2000      | 2076969   | 1981845   | 0.5117182 | TRUE      |  95124    | 1.047998  | 4058814   | \n",
       "| 1955      | 2073719   | 1973576   | 0.5123716 | TRUE      | 100143    | 1.050742  | 4047295   | \n",
       "| 1989      | 2069490   | 1971468   | 0.5121286 | TRUE      |  98022    | 1.049720  | 4040958   | \n",
       "| 1964      | 2060162   | 1967328   | 0.5115250 | TRUE      |  92834    | 1.047188  | 4027490   | \n",
       "| 2001      | 2057922   | 1968011   | 0.5111665 | TRUE      |  89911    | 1.045686  | 4025933   | \n",
       "| 2002      | 2057979   | 1963747   | 0.5117154 | TRUE      |  94232    | 1.047986  | 4021726   | \n",
       "| 1954      | 2059068   | 1958294   | 0.5125423 | TRUE      | 100774    | 1.051460  | 4017362   | \n",
       "| 1993      | 2048861   | 1951379   | 0.5121845 | TRUE      |  97482    | 1.049955  | 4000240   | \n",
       "| 2010      | 2046561   | 1952825   | 0.5117188 | TRUE      |  93736    | 1.048000  | 3999386   | \n",
       "| 1999      | 2026854   | 1932563   | 0.5119072 | TRUE      |  94291    | 1.048791  | 3959417   | \n",
       "| 2011      | 2024068   | 1929522   | 0.5119570 | TRUE      |  94546    | 1.049000  | 3953590   | \n",
       "| 2012      | 2021800   | 1931041   | 0.5114802 | TRUE      |  90759    | 1.047000  | 3952841   | \n",
       "| ... | ... | ... | ... | ... | ... | ... | ... | \n",
       "| 1970      | 1915378   | 1816008   | 0.5133154 | TRUE      | 99370     | 1.054719  | 3731386   | \n",
       "| 1947      | 1899876   | 1800064   | 0.5134883 | TRUE      | 99812     | 1.055449  | 3699940   | \n",
       "| 1982      | 1885676   | 1794861   | 0.5123372 | TRUE      | 90815     | 1.050597  | 3680537   | \n",
       "| 1984      | 1879490   | 1789651   | 0.5122425 | TRUE      | 89839     | 1.050199  | 3669141   | \n",
       "| 1983      | 1865553   | 1773380   | 0.5126648 | TRUE      | 92173     | 1.051976  | 3638933   | \n",
       "| 1981      | 1860272   | 1768966   | 0.5125792 | TRUE      | 91306     | 1.051615  | 3629238   | \n",
       "| 1980      | 1852616   | 1759642   | 0.5128692 | TRUE      | 92974     | 1.052837  | 3612258   | \n",
       "| 1966      | 1845862   | 1760412   | 0.5118474 | TRUE      | 85450     | 1.048540  | 3606274   | \n",
       "| 1969      | 1846572   | 1753634   | 0.5129073 | TRUE      | 92938     | 1.052997  | 3600206   | \n",
       "| 1949      | 1826352   | 1733177   | 0.5130881 | TRUE      | 93175     | 1.053760  | 3559529   | \n",
       "| 1971      | 1822910   | 1733060   | 0.5126337 | TRUE      | 89850     | 1.051845  | 3555970   | \n",
       "| 1950      | 1823555   | 1730594   | 0.5130778 | TRUE      | 92961     | 1.053716  | 3554149   | \n",
       "| 1948      | 1813852   | 1721216   | 0.5131024 | TRUE      | 92636     | 1.053820  | 3535068   | \n",
       "| 1967      | 1803388   | 1717571   | 0.5121866 | TRUE      | 85817     | 1.049964  | 3520959   | \n",
       "| 1968      | 1796326   | 1705238   | 0.5130068 | TRUE      | 91088     | 1.053417  | 3501564   | \n",
       "| 1979      | 1791267   | 1703131   | 0.5126110 | TRUE      | 88136     | 1.051749  | 3494398   | \n",
       "| 1978      | 1709394   | 1623885   | 0.5128266 | TRUE      | 85509     | 1.052657  | 3333279   | \n",
       "| 1977      | 1705916   | 1620716   | 0.5128057 | TRUE      | 85200     | 1.052569  | 3326632   | \n",
       "| 1946      | 1691220   | 1597452   | 0.5142562 | TRUE      | 93768     | 1.058698  | 3288672   | \n",
       "| 1972      | 1669927   | 1588484   | 0.5124973 | TRUE      | 81443     | 1.051271  | 3258411   | \n",
       "| 1976      | 1624436   | 1543352   | 0.5127982 | TRUE      | 81084     | 1.052538  | 3167788   | \n",
       "| 1974      | 1622114   | 1537844   | 0.5133340 | TRUE      | 84270     | 1.054797  | 3159958   | \n",
       "| 1975      | 1613135   | 1531063   | 0.5130513 | TRUE      | 82072     | 1.053605  | 3144198   | \n",
       "| 1973      | 1608326   | 1528639   | 0.5127013 | TRUE      | 79687     | 1.052129  | 3136965   | \n",
       "| 1943      | 1508959   | 1427901   | 0.5138001 | TRUE      | 81058     | 1.056767  | 2936860   | \n",
       "| 1942      | 1444365   | 1364631   | 0.5141926 | TRUE      | 79734     | 1.058429  | 2808996   | \n",
       "| 1944      | 1435301   | 1359499   | 0.5135613 | TRUE      | 75802     | 1.055757  | 2794800   | \n",
       "| 1945      | 1404587   | 1330869   | 0.5134745 | TRUE      | 73718     | 1.055391  | 2735456   | \n",
       "| 1941      | 1289734   | 1223693   | 0.5131376 | TRUE      | 66041     | 1.053969  | 2513427   | \n",
       "| 1940      | 1211684   | 1148715   | 0.5133386 | TRUE      | 62969     | 1.054817  | 2360399   | \n",
       "\n",
       "\n"
      ],
      "text/plain": [
       "    year boys    girls   prop_boys more_boys diff   prop_boy_girl total  \n",
       "1   2007 2208071 2108162 0.5115736 TRUE       99909 1.047392      4316233\n",
       "2   1961 2186274 2082052 0.5122088 TRUE      104222 1.050057      4268326\n",
       "3   2006 2184237 2081318 0.5120640 TRUE      102919 1.049449      4265555\n",
       "4   1960 2179708 2078142 0.5119269 TRUE      101566 1.048873      4257850\n",
       "5   1957 2179960 2074824 0.5123550 TRUE      105136 1.050672      4254784\n",
       "6   2008 2173625 2074069 0.5117188 TRUE       99556 1.048000      4247694\n",
       "7   1959 2173638 2071158 0.5120713 TRUE      102480 1.049480      4244796\n",
       "8   1958 2152546 2051266 0.5120462 TRUE      101280 1.049374      4203812\n",
       "9   1962 2132466 2034896 0.5117064 TRUE       97570 1.047948      4167362\n",
       "10  1956 2133588 2029502 0.5125011 TRUE      104086 1.051286      4163090\n",
       "11  1990 2129495 2028717 0.5121179 TRUE      100778 1.049676      4158212\n",
       "12  2005 2118982 2019367 0.5120356 TRUE       99615 1.049330      4138349\n",
       "13  2009 2113739 2016926 0.5117188 TRUE       96813 1.048000      4130665\n",
       "14  2004 2104661 2007391 0.5118274 TRUE       97270 1.048456      4112052\n",
       "15  1991 2101518 2009389 0.5112054 TRUE       92129 1.045849      4110907\n",
       "16  1963 2101632 1996388 0.5128408 TRUE      105244 1.052717      4098020\n",
       "17  2003 2093535 1996415 0.5118730 TRUE       97120 1.048647      4089950\n",
       "18  1992 2082097 1982917 0.5121992 TRUE       99180 1.050017      4065014\n",
       "19  2000 2076969 1981845 0.5117182 TRUE       95124 1.047998      4058814\n",
       "20  1955 2073719 1973576 0.5123716 TRUE      100143 1.050742      4047295\n",
       "21  1989 2069490 1971468 0.5121286 TRUE       98022 1.049720      4040958\n",
       "22  1964 2060162 1967328 0.5115250 TRUE       92834 1.047188      4027490\n",
       "23  2001 2057922 1968011 0.5111665 TRUE       89911 1.045686      4025933\n",
       "24  2002 2057979 1963747 0.5117154 TRUE       94232 1.047986      4021726\n",
       "25  1954 2059068 1958294 0.5125423 TRUE      100774 1.051460      4017362\n",
       "26  1993 2048861 1951379 0.5121845 TRUE       97482 1.049955      4000240\n",
       "27  2010 2046561 1952825 0.5117188 TRUE       93736 1.048000      3999386\n",
       "28  1999 2026854 1932563 0.5119072 TRUE       94291 1.048791      3959417\n",
       "29  2011 2024068 1929522 0.5119570 TRUE       94546 1.049000      3953590\n",
       "30  2012 2021800 1931041 0.5114802 TRUE       90759 1.047000      3952841\n",
       "... ...  ...     ...     ...       ...       ...    ...           ...    \n",
       "45  1970 1915378 1816008 0.5133154 TRUE      99370  1.054719      3731386\n",
       "46  1947 1899876 1800064 0.5134883 TRUE      99812  1.055449      3699940\n",
       "47  1982 1885676 1794861 0.5123372 TRUE      90815  1.050597      3680537\n",
       "48  1984 1879490 1789651 0.5122425 TRUE      89839  1.050199      3669141\n",
       "49  1983 1865553 1773380 0.5126648 TRUE      92173  1.051976      3638933\n",
       "50  1981 1860272 1768966 0.5125792 TRUE      91306  1.051615      3629238\n",
       "51  1980 1852616 1759642 0.5128692 TRUE      92974  1.052837      3612258\n",
       "52  1966 1845862 1760412 0.5118474 TRUE      85450  1.048540      3606274\n",
       "53  1969 1846572 1753634 0.5129073 TRUE      92938  1.052997      3600206\n",
       "54  1949 1826352 1733177 0.5130881 TRUE      93175  1.053760      3559529\n",
       "55  1971 1822910 1733060 0.5126337 TRUE      89850  1.051845      3555970\n",
       "56  1950 1823555 1730594 0.5130778 TRUE      92961  1.053716      3554149\n",
       "57  1948 1813852 1721216 0.5131024 TRUE      92636  1.053820      3535068\n",
       "58  1967 1803388 1717571 0.5121866 TRUE      85817  1.049964      3520959\n",
       "59  1968 1796326 1705238 0.5130068 TRUE      91088  1.053417      3501564\n",
       "60  1979 1791267 1703131 0.5126110 TRUE      88136  1.051749      3494398\n",
       "61  1978 1709394 1623885 0.5128266 TRUE      85509  1.052657      3333279\n",
       "62  1977 1705916 1620716 0.5128057 TRUE      85200  1.052569      3326632\n",
       "63  1946 1691220 1597452 0.5142562 TRUE      93768  1.058698      3288672\n",
       "64  1972 1669927 1588484 0.5124973 TRUE      81443  1.051271      3258411\n",
       "65  1976 1624436 1543352 0.5127982 TRUE      81084  1.052538      3167788\n",
       "66  1974 1622114 1537844 0.5133340 TRUE      84270  1.054797      3159958\n",
       "67  1975 1613135 1531063 0.5130513 TRUE      82072  1.053605      3144198\n",
       "68  1973 1608326 1528639 0.5127013 TRUE      79687  1.052129      3136965\n",
       "69  1943 1508959 1427901 0.5138001 TRUE      81058  1.056767      2936860\n",
       "70  1942 1444365 1364631 0.5141926 TRUE      79734  1.058429      2808996\n",
       "71  1944 1435301 1359499 0.5135613 TRUE      75802  1.055757      2794800\n",
       "72  1945 1404587 1330869 0.5134745 TRUE      73718  1.055391      2735456\n",
       "73  1941 1289734 1223693 0.5131376 TRUE      66041  1.053969      2513427\n",
       "74  1940 1211684 1148715 0.5133386 TRUE      62969  1.054817      2360399"
      ]
     },
     "metadata": {},
     "output_type": "display_data"
    }
   ],
   "source": [
    "present %>%\n",
    "        mutate(total = girls+boys) %>%\n",
    "        arrange(desc(total))"
   ]
  }
 ],
 "metadata": {
  "anaconda-cloud": {},
  "kernelspec": {
   "display_name": "R",
   "language": "R",
   "name": "ir"
  },
  "language_info": {
   "codemirror_mode": "r",
   "file_extension": ".r",
   "mimetype": "text/x-r-source",
   "name": "R",
   "pygments_lexer": "r",
   "version": "3.3.2"
  }
 },
 "nbformat": 4,
 "nbformat_minor": 1
}
