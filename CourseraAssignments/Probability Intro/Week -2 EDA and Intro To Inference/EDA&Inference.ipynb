{
 "cells": [
  {
   "cell_type": "markdown",
   "metadata": {},
   "source": [
    "## Domestic flights that departed from the three major New York City airport in 2013"
   ]
  },
  {
   "cell_type": "code",
   "execution_count": 123,
   "metadata": {
    "collapsed": true
   },
   "outputs": [],
   "source": [
    "library(\"statsr\")"
   ]
  },
  {
   "cell_type": "code",
   "execution_count": 124,
   "metadata": {
    "collapsed": false
   },
   "outputs": [],
   "source": [
    "library(dplyr)\n",
    "library(ggplot2)"
   ]
  },
  {
   "cell_type": "code",
   "execution_count": 125,
   "metadata": {
    "collapsed": false
   },
   "outputs": [],
   "source": [
    "data(nycflights)"
   ]
  },
  {
   "cell_type": "code",
   "execution_count": 126,
   "metadata": {
    "collapsed": false
   },
   "outputs": [
    {
     "data": {
      "text/html": [
       "<ol class=list-inline>\n",
       "\t<li>'year'</li>\n",
       "\t<li>'month'</li>\n",
       "\t<li>'day'</li>\n",
       "\t<li>'dep_time'</li>\n",
       "\t<li>'dep_delay'</li>\n",
       "\t<li>'arr_time'</li>\n",
       "\t<li>'arr_delay'</li>\n",
       "\t<li>'carrier'</li>\n",
       "\t<li>'tailnum'</li>\n",
       "\t<li>'flight'</li>\n",
       "\t<li>'origin'</li>\n",
       "\t<li>'dest'</li>\n",
       "\t<li>'air_time'</li>\n",
       "\t<li>'distance'</li>\n",
       "\t<li>'hour'</li>\n",
       "\t<li>'minute'</li>\n",
       "</ol>\n"
      ],
      "text/latex": [
       "\\begin{enumerate*}\n",
       "\\item 'year'\n",
       "\\item 'month'\n",
       "\\item 'day'\n",
       "\\item 'dep\\_time'\n",
       "\\item 'dep\\_delay'\n",
       "\\item 'arr\\_time'\n",
       "\\item 'arr\\_delay'\n",
       "\\item 'carrier'\n",
       "\\item 'tailnum'\n",
       "\\item 'flight'\n",
       "\\item 'origin'\n",
       "\\item 'dest'\n",
       "\\item 'air\\_time'\n",
       "\\item 'distance'\n",
       "\\item 'hour'\n",
       "\\item 'minute'\n",
       "\\end{enumerate*}\n"
      ],
      "text/markdown": [
       "1. 'year'\n",
       "2. 'month'\n",
       "3. 'day'\n",
       "4. 'dep_time'\n",
       "5. 'dep_delay'\n",
       "6. 'arr_time'\n",
       "7. 'arr_delay'\n",
       "8. 'carrier'\n",
       "9. 'tailnum'\n",
       "10. 'flight'\n",
       "11. 'origin'\n",
       "12. 'dest'\n",
       "13. 'air_time'\n",
       "14. 'distance'\n",
       "15. 'hour'\n",
       "16. 'minute'\n",
       "\n",
       "\n"
      ],
      "text/plain": [
       " [1] \"year\"      \"month\"     \"day\"       \"dep_time\"  \"dep_delay\" \"arr_time\" \n",
       " [7] \"arr_delay\" \"carrier\"   \"tailnum\"   \"flight\"    \"origin\"    \"dest\"     \n",
       "[13] \"air_time\"  \"distance\"  \"hour\"      \"minute\"   "
      ]
     },
     "metadata": {},
     "output_type": "display_data"
    }
   ],
   "source": [
    "names(nycflights)"
   ]
  },
  {
   "cell_type": "code",
   "execution_count": 127,
   "metadata": {
    "collapsed": false
   },
   "outputs": [
    {
     "data": {
      "text/html": [
       "<ol class=list-inline>\n",
       "\t<li>32735</li>\n",
       "\t<li>16</li>\n",
       "</ol>\n"
      ],
      "text/latex": [
       "\\begin{enumerate*}\n",
       "\\item 32735\n",
       "\\item 16\n",
       "\\end{enumerate*}\n"
      ],
      "text/markdown": [
       "1. 32735\n",
       "2. 16\n",
       "\n",
       "\n"
      ],
      "text/plain": [
       "[1] 32735    16"
      ]
     },
     "metadata": {},
     "output_type": "display_data"
    }
   ],
   "source": [
    "dim(nycflights)"
   ]
  },
  {
   "cell_type": "code",
   "execution_count": 128,
   "metadata": {
    "collapsed": false
   },
   "outputs": [
    {
     "data": {
      "text/plain": [
       "      year          month             day           dep_time   \n",
       " Min.   :2013   Min.   : 1.000   Min.   : 1.00   Min.   :   1  \n",
       " 1st Qu.:2013   1st Qu.: 4.000   1st Qu.: 8.00   1st Qu.: 908  \n",
       " Median :2013   Median : 7.000   Median :16.00   Median :1358  \n",
       " Mean   :2013   Mean   : 6.576   Mean   :15.78   Mean   :1349  \n",
       " 3rd Qu.:2013   3rd Qu.:10.000   3rd Qu.:23.00   3rd Qu.:1744  \n",
       " Max.   :2013   Max.   :12.000   Max.   :31.00   Max.   :2400  \n",
       "   dep_delay          arr_time      arr_delay          carrier         \n",
       " Min.   : -21.00   Min.   :   1   Min.   : -73.000   Length:32735      \n",
       " 1st Qu.:  -5.00   1st Qu.:1106   1st Qu.: -17.000   Class :character  \n",
       " Median :  -2.00   Median :1537   Median :  -5.000   Mode  :character  \n",
       " Mean   :  12.71   Mean   :1503   Mean   :   7.101                     \n",
       " 3rd Qu.:  11.00   3rd Qu.:1939   3rd Qu.:  14.000                     \n",
       " Max.   :1301.00   Max.   :2400   Max.   :1272.000                     \n",
       "   tailnum              flight        origin              dest          \n",
       " Length:32735       Min.   :   1   Length:32735       Length:32735      \n",
       " Class :character   1st Qu.: 550   Class :character   Class :character  \n",
       " Mode  :character   Median :1473   Mode  :character   Mode  :character  \n",
       "                    Mean   :1948                                        \n",
       "                    3rd Qu.:3416                                        \n",
       "                    Max.   :6181                                        \n",
       "    air_time        distance         hour           minute     \n",
       " Min.   : 22.0   Min.   :  94   Min.   : 0.00   Min.   : 0.00  \n",
       " 1st Qu.: 82.0   1st Qu.: 502   1st Qu.: 9.00   1st Qu.:16.00  \n",
       " Median :129.0   Median : 888   Median :13.00   Median :32.00  \n",
       " Mean   :150.4   Mean   :1046   Mean   :13.17   Mean   :31.82  \n",
       " 3rd Qu.:191.0   3rd Qu.:1391   3rd Qu.:17.00   3rd Qu.:49.00  \n",
       " Max.   :686.0   Max.   :4983   Max.   :24.00   Max.   :59.00  "
      ]
     },
     "metadata": {},
     "output_type": "display_data"
    }
   ],
   "source": [
    "summary(nycflights)"
   ]
  },
  {
   "cell_type": "code",
   "execution_count": 129,
   "metadata": {
    "collapsed": true
   },
   "outputs": [],
   "source": [
    "?nycflights"
   ]
  },
  {
   "cell_type": "code",
   "execution_count": 130,
   "metadata": {
    "collapsed": false
   },
   "outputs": [
    {
     "name": "stdout",
     "output_type": "stream",
     "text": [
      "Classes 'tbl_df' and 'data.frame':\t32735 obs. of  16 variables:\n",
      " $ year     : int  2013 2013 2013 2013 2013 2013 2013 2013 2013 2013 ...\n",
      " $ month    : int  6 5 12 5 7 1 12 8 9 4 ...\n",
      " $ day      : int  30 7 8 14 21 1 9 13 26 30 ...\n",
      " $ dep_time : int  940 1657 859 1841 1102 1817 1259 1920 725 1323 ...\n",
      " $ dep_delay: num  15 -3 -1 -4 -3 -3 14 85 -10 62 ...\n",
      " $ arr_time : int  1216 2104 1238 2122 1230 2008 1617 2032 1027 1549 ...\n",
      " $ arr_delay: num  -4 10 11 -34 -8 3 22 71 -8 60 ...\n",
      " $ carrier  : chr  \"VX\" \"DL\" \"DL\" \"DL\" ...\n",
      " $ tailnum  : chr  \"N626VA\" \"N3760C\" \"N712TW\" \"N914DL\" ...\n",
      " $ flight   : int  407 329 422 2391 3652 353 1428 1407 2279 4162 ...\n",
      " $ origin   : chr  \"JFK\" \"JFK\" \"JFK\" \"JFK\" ...\n",
      " $ dest     : chr  \"LAX\" \"SJU\" \"LAX\" \"TPA\" ...\n",
      " $ air_time : num  313 216 376 135 50 138 240 48 148 110 ...\n",
      " $ distance : num  2475 1598 2475 1005 296 ...\n",
      " $ hour     : num  9 16 8 18 11 18 12 19 7 13 ...\n",
      " $ minute   : num  40 57 59 41 2 17 59 20 25 23 ...\n"
     ]
    }
   ],
   "source": [
    "str(nycflights)"
   ]
  },
  {
   "cell_type": "markdown",
   "metadata": {},
   "source": [
    "Let's think about some questions we might want to answer with these data:\n",
    "\n",
    "- We might want to find out how delayed flights headed to a particular \n",
    "destination tend to be. \n",
    "- We might want to evaluate how departure delays vary over months. \n",
    "- Or we might want to determine which of the three major NYC airports has a better \n",
    "on time percentage for departing flights."
   ]
  },
  {
   "cell_type": "markdown",
   "metadata": {},
   "source": [
    "### Seven verbs\n",
    "\n",
    "The `dplyr` package offers seven verbs (functions) for basic data \n",
    "manipulation:\n",
    "\n",
    "- `filter()`\n",
    "- `arrange()`\n",
    "- `select()` \n",
    "- `distinct()`\n",
    "- `mutate()`\n",
    "- `summarise()`\n",
    "- `sample_n()`\n",
    "\n",
    "We will use some of these functions in this lab, and learn about others in a \n",
    "future lab.\n"
   ]
  },
  {
   "cell_type": "markdown",
   "metadata": {},
   "source": [
    "## Analysis\n",
    "\n",
    "### Departure delays in flights to Raleigh-Durham (RDU)\n",
    "\n",
    "We can examine the distribution of departure delays of all flights with a \n",
    "histogram."
   ]
  },
  {
   "cell_type": "code",
   "execution_count": 131,
   "metadata": {
    "collapsed": false
   },
   "outputs": [
    {
     "name": "stderr",
     "output_type": "stream",
     "text": [
      "`stat_bin()` using `bins = 30`. Pick better value with `binwidth`.\n"
     ]
    },
    {
     "data": {},
     "metadata": {},
     "output_type": "display_data"
    },
    {
     "data": {
      "image/png": "[encoded data removed]",
      "text/plain": [
       "plot without title"
      ]
     },
     "metadata": {},
     "output_type": "display_data"
    }
   ],
   "source": [
    "options(repr.plot.width=5, repr.plot.height=4)\n",
    "ggplot(data=nycflights,aes(x=dep_delay)) + geom_histogram()"
   ]
  },
  {
   "cell_type": "markdown",
   "metadata": {},
   "source": [
    "Histograms are generally a very good way to see the shape of a single \n",
    "distribution, but that shape can change depending on how the data is split \n",
    "between the different bins. You can easily define the binwidth you want to use:"
   ]
  },
  {
   "cell_type": "code",
   "execution_count": 132,
   "metadata": {
    "collapsed": false
   },
   "outputs": [
    {
     "data": {},
     "metadata": {},
     "output_type": "display_data"
    },
    {
     "data": {},
     "metadata": {},
     "output_type": "display_data"
    },
    {
     "data": {
      "image/png": "[encoded data removed]",
      "text/plain": [
       "plot without title"
      ]
     },
     "metadata": {},
     "output_type": "display_data"
    },
    {
     "data": {
      "image/png": "[encoded data removed]",
      "text/plain": [
       "plot without title"
      ]
     },
     "metadata": {},
     "output_type": "display_data"
    }
   ],
   "source": [
    "ggplot(data = nycflights, aes(x = dep_delay)) +\n",
    "  geom_histogram(binwidth = 15)\n",
    "\n",
    "ggplot(data = nycflights, aes(x = dep_delay)) +\n",
    "  geom_histogram(binwidth = 150)"
   ]
  },
  {
   "cell_type": "markdown",
   "metadata": {},
   "source": [
    "*** How do these three histograms with the various binwidths compare? ***"
   ]
  },
  {
   "cell_type": "markdown",
   "metadata": {},
   "source": [
    "If we want to focus on departure delays of flights headed to RDU only, we need to\n",
    "first `filter` the data for flights headed to RDU (`dest == \"RDU\"`) and then make\n",
    "a histogram of only departure delays of only those flights."
   ]
  },
  {
   "cell_type": "code",
   "execution_count": 133,
   "metadata": {
    "collapsed": false
   },
   "outputs": [
    {
     "name": "stderr",
     "output_type": "stream",
     "text": [
      "`stat_bin()` using `bins = 30`. Pick better value with `binwidth`.\n"
     ]
    },
    {
     "data": {},
     "metadata": {},
     "output_type": "display_data"
    },
    {
     "data": {
      "image/png": "[encoded data removed]",
      "text/plain": [
       "plot without title"
      ]
     },
     "metadata": {},
     "output_type": "display_data"
    }
   ],
   "source": [
    "rdu_flights= nycflights %>% \n",
    "                        filter(dest==\"RDU\")\n",
    "ggplot(data=rdu_flights,aes(x=dep_delay)) + geom_histogram()"
   ]
  },
  {
   "cell_type": "markdown",
   "metadata": {},
   "source": [
    "#### We can also obtain numerical summaries for these flights:"
   ]
  },
  {
   "cell_type": "code",
   "execution_count": 134,
   "metadata": {
    "collapsed": false
   },
   "outputs": [
    {
     "data": {
      "text/html": [
       "<table>\n",
       "<thead><tr><th scope=col>mean_dd</th><th scope=col>sd_dd</th><th scope=col>iqr_dd</th><th scope=col>n</th></tr></thead>\n",
       "<tbody>\n",
       "\t<tr><td>11.69913</td><td>35.55567</td><td>18      </td><td>801     </td></tr>\n",
       "</tbody>\n",
       "</table>\n"
      ],
      "text/latex": [
       "\\begin{tabular}{r|llll}\n",
       " mean\\_dd & sd\\_dd & iqr\\_dd & n\\\\\n",
       "\\hline\n",
       "\t 11.69913 & 35.55567 & 18       & 801     \\\\\n",
       "\\end{tabular}\n"
      ],
      "text/markdown": [
       "\n",
       "mean_dd | sd_dd | iqr_dd | n | \n",
       "|---|\n",
       "| 11.69913 | 35.55567 | 18       | 801      | \n",
       "\n",
       "\n"
      ],
      "text/plain": [
       "  mean_dd  sd_dd    iqr_dd n  \n",
       "1 11.69913 35.55567 18     801"
      ]
     },
     "metadata": {},
     "output_type": "display_data"
    }
   ],
   "source": [
    "rdu_flights %>%\n",
    "            summarise(mean_dd=mean(dep_delay),sd_dd=sd(dep_delay),iqr_dd=IQR(dep_delay),n=n()) # n() reports the sample size."
   ]
  },
  {
   "cell_type": "markdown",
   "metadata": {},
   "source": [
    "\n",
    "**Summary statistics: ** Some useful function calls for summary statistics for a \n",
    "single numerical variable are as follows:\n",
    "\n",
    "- `mean`\n",
    "- `median`\n",
    "- `sd`\n",
    "- `var`\n",
    "- `IQR`\n",
    "- `range`\n",
    "- `min`\n",
    "- `max`\n"
   ]
  },
  {
   "cell_type": "markdown",
   "metadata": {},
   "source": [
    " ### Filter based on multiple criteria"
   ]
  },
  {
   "cell_type": "markdown",
   "metadata": {},
   "source": [
    "Q. Create a new data frame that includes flights headed to SFO in February, and save \n",
    "this data frame as `sfo_feb_flights`. How many flights meet these criteria? "
   ]
  },
  {
   "cell_type": "code",
   "execution_count": 135,
   "metadata": {
    "collapsed": false
   },
   "outputs": [
    {
     "data": {
      "text/html": [
       "<ol class=list-inline>\n",
       "\t<li>68</li>\n",
       "\t<li>16</li>\n",
       "</ol>\n"
      ],
      "text/latex": [
       "\\begin{enumerate*}\n",
       "\\item 68\n",
       "\\item 16\n",
       "\\end{enumerate*}\n"
      ],
      "text/markdown": [
       "1. 68\n",
       "2. 16\n",
       "\n",
       "\n"
      ],
      "text/plain": [
       "[1] 68 16"
      ]
     },
     "metadata": {},
     "output_type": "display_data"
    }
   ],
   "source": [
    "sfo_feb_flights <- nycflights %>% \n",
    "                    filter(dest==\"SFO\", month==2)\n",
    "dim(sfo_feb_flights)"
   ]
  },
  {
   "cell_type": "markdown",
   "metadata": {},
   "source": [
    "<h4> Note that we can separate the conditions using commas if we want flights that\n",
    "are both headed to SFO **and** in February. If we are interested in either\n",
    "flights headed to SFO **or** in February we can use the `|` instead of the comma. </h4>"
   ]
  },
  {
   "cell_type": "markdown",
   "metadata": {},
   "source": [
    "Q.  Make a histogram and calculate appropriate summary statistics for **arrival** \n",
    "delays of `sfo_feb_flights`. Which of the following is false? \n",
    "<ol>\n",
    "<li> The distribution is unimodal. </li> \n",
    "<li> The distribution is right skewed. </li> \n",
    "<li> No flight is delayed more than 2 hours. </li> \n",
    "<li> The distribution has several extreme values on the right side. </li>\n",
    "<li> More than 50% of flights arrive on time or earlier than scheduled. </li>\n",
    "</ol>"
   ]
  },
  {
   "cell_type": "code",
   "execution_count": 136,
   "metadata": {
    "collapsed": false
   },
   "outputs": [
    {
     "name": "stderr",
     "output_type": "stream",
     "text": [
      "`stat_bin()` using `bins = 30`. Pick better value with `binwidth`.\n"
     ]
    },
    {
     "data": {},
     "metadata": {},
     "output_type": "display_data"
    },
    {
     "data": {
      "image/png": "[encoded data removed]",
      "text/plain": [
       "plot without title"
      ]
     },
     "metadata": {},
     "output_type": "display_data"
    }
   ],
   "source": [
    "ggplot(data=sfo_feb_flights, aes(x=arr_delay)) +geom_histogram() #3"
   ]
  },
  {
   "cell_type": "markdown",
   "metadata": {},
   "source": [
    "Using the `group_by` function to get the same summary stats for \n",
    "each origin airport:"
   ]
  },
  {
   "cell_type": "code",
   "execution_count": 137,
   "metadata": {
    "collapsed": false
   },
   "outputs": [
    {
     "data": {
      "text/html": [
       "<table>\n",
       "<thead><tr><th scope=col>origin</th><th scope=col>dd_mean</th><th scope=col>dd_sd</th><th scope=col>n</th></tr></thead>\n",
       "<tbody>\n",
       "\t<tr><td>EWR      </td><td>13.365517</td><td>32.08492 </td><td>145      </td></tr>\n",
       "\t<tr><td>JFK      </td><td>15.396667</td><td>40.30535 </td><td>300      </td></tr>\n",
       "\t<tr><td>LGA      </td><td> 7.904494</td><td>32.18620 </td><td>356      </td></tr>\n",
       "</tbody>\n",
       "</table>\n"
      ],
      "text/latex": [
       "\\begin{tabular}{r|llll}\n",
       " origin & dd\\_mean & dd\\_sd & n\\\\\n",
       "\\hline\n",
       "\t EWR       & 13.365517 & 32.08492  & 145      \\\\\n",
       "\t JFK       & 15.396667 & 40.30535  & 300      \\\\\n",
       "\t LGA       &  7.904494 & 32.18620  & 356      \\\\\n",
       "\\end{tabular}\n"
      ],
      "text/markdown": [
       "\n",
       "origin | dd_mean | dd_sd | n | \n",
       "|---|---|---|\n",
       "| EWR       | 13.365517 | 32.08492  | 145       | \n",
       "| JFK       | 15.396667 | 40.30535  | 300       | \n",
       "| LGA       |  7.904494 | 32.18620  | 356       | \n",
       "\n",
       "\n"
      ],
      "text/plain": [
       "  origin dd_mean   dd_sd    n  \n",
       "1 EWR    13.365517 32.08492 145\n",
       "2 JFK    15.396667 40.30535 300\n",
       "3 LGA     7.904494 32.18620 356"
      ]
     },
     "metadata": {},
     "output_type": "display_data"
    }
   ],
   "source": [
    "rdu_flights %>% \n",
    "        group_by(origin) %>%\n",
    "        summarise(dd_mean=mean(dep_delay),dd_sd=sd(dep_delay),n=n())"
   ]
  },
  {
   "cell_type": "markdown",
   "metadata": {},
   "source": [
    "Q. Calculate the median and interquartile range for `arr_delay`s of flights in the \n",
    "`sfo_feb_flights` data frame, grouped by carrier. Which carrier has the highest \n",
    "IQR of arrival delays? \n",
    "<ol>\n",
    "<li> American Airlines </li> \n",
    "<li> JetBlue Airways </li> \n",
    "<li> Virgin America </li> \n",
    "<li> Delta and United Airlines </li>\n",
    "<li> Frontier Airlines </li>\n",
    "</ol>"
   ]
  },
  {
   "cell_type": "code",
   "execution_count": 138,
   "metadata": {
    "collapsed": false
   },
   "outputs": [
    {
     "data": {
      "text/html": [
       "<table>\n",
       "<thead><tr><th scope=col>carrier</th><th scope=col>ad_median</th><th scope=col>ad_iqr</th><th scope=col>n</th></tr></thead>\n",
       "<tbody>\n",
       "\t<tr><td>B6   </td><td>-10.5</td><td>12.25</td><td> 6   </td></tr>\n",
       "\t<tr><td>AA   </td><td>  5.0</td><td>17.50</td><td>10   </td></tr>\n",
       "\t<tr><td>VX   </td><td>-22.5</td><td>21.25</td><td>12   </td></tr>\n",
       "\t<tr><td>DL   </td><td>-15.0</td><td>22.00</td><td>19   </td></tr>\n",
       "\t<tr><td>UA   </td><td>-10.0</td><td>22.00</td><td>21   </td></tr>\n",
       "</tbody>\n",
       "</table>\n"
      ],
      "text/latex": [
       "\\begin{tabular}{r|llll}\n",
       " carrier & ad\\_median & ad\\_iqr & n\\\\\n",
       "\\hline\n",
       "\t B6    & -10.5 & 12.25 &  6   \\\\\n",
       "\t AA    &   5.0 & 17.50 & 10   \\\\\n",
       "\t VX    & -22.5 & 21.25 & 12   \\\\\n",
       "\t DL    & -15.0 & 22.00 & 19   \\\\\n",
       "\t UA    & -10.0 & 22.00 & 21   \\\\\n",
       "\\end{tabular}\n"
      ],
      "text/markdown": [
       "\n",
       "carrier | ad_median | ad_iqr | n | \n",
       "|---|---|---|---|---|\n",
       "| B6    | -10.5 | 12.25 |  6    | \n",
       "| AA    |   5.0 | 17.50 | 10    | \n",
       "| VX    | -22.5 | 21.25 | 12    | \n",
       "| DL    | -15.0 | 22.00 | 19    | \n",
       "| UA    | -10.0 | 22.00 | 21    | \n",
       "\n",
       "\n"
      ],
      "text/plain": [
       "  carrier ad_median ad_iqr n \n",
       "1 B6      -10.5     12.25   6\n",
       "2 AA        5.0     17.50  10\n",
       "3 VX      -22.5     21.25  12\n",
       "4 DL      -15.0     22.00  19\n",
       "5 UA      -10.0     22.00  21"
      ]
     },
     "metadata": {},
     "output_type": "display_data"
    }
   ],
   "source": [
    "sfo_feb_flights %>%\n",
    "        group_by(carrier) %>%\n",
    "        summarise(ad_median=median(arr_delay),ad_iqr=IQR(arr_delay), n=n()) %>%\n",
    "        arrange(ad_iqr)"
   ]
  },
  {
   "cell_type": "markdown",
   "metadata": {},
   "source": [
    "### Departure delays over months\n",
    "\n",
    "Q. Which month would you expect to have the highest average delay departing \n",
    "from an NYC airport?"
   ]
  },
  {
   "cell_type": "code",
   "execution_count": 139,
   "metadata": {
    "collapsed": false
   },
   "outputs": [
    {
     "data": {
      "text/html": [
       "<table>\n",
       "<thead><tr><th scope=col>month</th><th scope=col>dd_avg</th><th scope=col>n</th></tr></thead>\n",
       "<tbody>\n",
       "\t<tr><td> 7       </td><td>20.754559</td><td>2742     </td></tr>\n",
       "\t<tr><td> 6       </td><td>20.350293</td><td>2732     </td></tr>\n",
       "\t<tr><td>12       </td><td>17.368189</td><td>2716     </td></tr>\n",
       "\t<tr><td> 4       </td><td>14.554477</td><td>2781     </td></tr>\n",
       "\t<tr><td> 3       </td><td>13.517602</td><td>2869     </td></tr>\n",
       "\t<tr><td> 5       </td><td>13.264800</td><td>2821     </td></tr>\n",
       "\t<tr><td> 8       </td><td>12.619097</td><td>2880     </td></tr>\n",
       "\t<tr><td> 2       </td><td>10.687227</td><td>2286     </td></tr>\n",
       "\t<tr><td> 1       </td><td>10.233333</td><td>2610     </td></tr>\n",
       "\t<tr><td> 9       </td><td> 6.872436</td><td>2681     </td></tr>\n",
       "\t<tr><td>11       </td><td> 6.103183</td><td>2733     </td></tr>\n",
       "\t<tr><td>10       </td><td> 5.880374</td><td>2884     </td></tr>\n",
       "</tbody>\n",
       "</table>\n"
      ],
      "text/latex": [
       "\\begin{tabular}{r|lll}\n",
       " month & dd\\_avg & n\\\\\n",
       "\\hline\n",
       "\t  7        & 20.754559 & 2742     \\\\\n",
       "\t  6        & 20.350293 & 2732     \\\\\n",
       "\t 12        & 17.368189 & 2716     \\\\\n",
       "\t  4        & 14.554477 & 2781     \\\\\n",
       "\t  3        & 13.517602 & 2869     \\\\\n",
       "\t  5        & 13.264800 & 2821     \\\\\n",
       "\t  8        & 12.619097 & 2880     \\\\\n",
       "\t  2        & 10.687227 & 2286     \\\\\n",
       "\t  1        & 10.233333 & 2610     \\\\\n",
       "\t  9        &  6.872436 & 2681     \\\\\n",
       "\t 11        &  6.103183 & 2733     \\\\\n",
       "\t 10        &  5.880374 & 2884     \\\\\n",
       "\\end{tabular}\n"
      ],
      "text/markdown": [
       "\n",
       "month | dd_avg | n | \n",
       "|---|---|---|---|---|---|---|---|---|---|---|---|\n",
       "|  7        | 20.754559 | 2742      | \n",
       "|  6        | 20.350293 | 2732      | \n",
       "| 12        | 17.368189 | 2716      | \n",
       "|  4        | 14.554477 | 2781      | \n",
       "|  3        | 13.517602 | 2869      | \n",
       "|  5        | 13.264800 | 2821      | \n",
       "|  8        | 12.619097 | 2880      | \n",
       "|  2        | 10.687227 | 2286      | \n",
       "|  1        | 10.233333 | 2610      | \n",
       "|  9        |  6.872436 | 2681      | \n",
       "| 11        |  6.103183 | 2733      | \n",
       "| 10        |  5.880374 | 2884      | \n",
       "\n",
       "\n"
      ],
      "text/plain": [
       "   month dd_avg    n   \n",
       "1   7    20.754559 2742\n",
       "2   6    20.350293 2732\n",
       "3  12    17.368189 2716\n",
       "4   4    14.554477 2781\n",
       "5   3    13.517602 2869\n",
       "6   5    13.264800 2821\n",
       "7   8    12.619097 2880\n",
       "8   2    10.687227 2286\n",
       "9   1    10.233333 2610\n",
       "10  9     6.872436 2681\n",
       "11 11     6.103183 2733\n",
       "12 10     5.880374 2884"
      ]
     },
     "metadata": {},
     "output_type": "display_data"
    }
   ],
   "source": [
    "monthly_dd <- nycflights %>%\n",
    "        group_by(month) %>%\n",
    "        summarise(dd_avg=mean(dep_delay),n=n()) %>%\n",
    "        arrange(desc(dd_avg))\n",
    "monthly_dd"
   ]
  },
  {
   "cell_type": "markdown",
   "metadata": {},
   "source": [
    "Q.  Is the mean or the median a more reliable measure for deciding which month(s) to \n",
    "avoid flying if you really dislike delayed flights, and why? \n",
    "<ol>\n",
    "<li> Mean would be more reliable as it gives us the true average. </li> \n",
    "<li> Mean would be more reliable as the distribution of delays is symmetric. </li> \n",
    "<li> Median would be more reliable as the distribution of delays is skewed. </li> \n",
    "<li> Median would be more reliable as the distribution of delays is symmetric. </li>\n",
    "<li> Both give us useful information. </li>\n",
    "</ol>"
   ]
  },
  {
   "cell_type": "code",
   "execution_count": 140,
   "metadata": {
    "collapsed": false
   },
   "outputs": [
    {
     "data": {
      "text/html": [
       "12.6837974279386"
      ],
      "text/latex": [
       "12.6837974279386"
      ],
      "text/markdown": [
       "12.6837974279386"
      ],
      "text/plain": [
       "[1] 12.6838"
      ]
     },
     "metadata": {},
     "output_type": "display_data"
    }
   ],
   "source": [
    "mean(monthly_dd$dd_avg)"
   ]
  },
  {
   "cell_type": "code",
   "execution_count": 141,
   "metadata": {
    "collapsed": false
   },
   "outputs": [
    {
     "data": {},
     "metadata": {},
     "output_type": "display_data"
    },
    {
     "data": {
      "image/png": "[encoded data removed]",
      "text/plain": [
       "plot without title"
      ]
     },
     "metadata": {},
     "output_type": "display_data"
    }
   ],
   "source": [
    "ggplot(nycflights, aes(x = factor(month), y = dep_delay)) +\n",
    "  geom_boxplot()"
   ]
  },
  {
   "cell_type": "markdown",
   "metadata": {},
   "source": [
    "### On time departure rate for NYC airports\n",
    "\n",
    "Suppose you will be flying out of NYC and want to know which of the \n",
    "three major NYC airports has the best on time departure rate of departing flights. \n",
    "Suppose also that for you a flight that is delayed for less than 5 minutes is \n",
    "basically \"on time\". You consider any flight delayed for 5 minutes of more to be \n",
    "\"delayed\".\n",
    "\n",
    "In order to determine which airport has the best on time departure rate, \n",
    "we need to \n",
    "\n",
    "- first classify each flight as \"on time\" or \"delayed\",\n",
    "- then group flights by origin airport,\n",
    "- then calculate on time departure rates for each origin airport,\n",
    "- and finally arrange the airports in descending order for on time departure\n",
    "percentage.\n",
    "\n",
    "If you were selecting an airport simply based on on time departure percentage, \n",
    "which NYC airport would you choose to fly out of? \n"
   ]
  },
  {
   "cell_type": "code",
   "execution_count": 142,
   "metadata": {
    "collapsed": false
   },
   "outputs": [
    {
     "data": {
      "text/html": [
       "<table>\n",
       "<thead><tr><th scope=col>origin</th><th scope=col>ot_dep_rate</th></tr></thead>\n",
       "<tbody>\n",
       "\t<tr><td>EWR      </td><td>0.6369892</td></tr>\n",
       "\t<tr><td>JFK      </td><td>0.6935854</td></tr>\n",
       "\t<tr><td>LGA      </td><td>0.7279229</td></tr>\n",
       "</tbody>\n",
       "</table>\n"
      ],
      "text/latex": [
       "\\begin{tabular}{r|ll}\n",
       " origin & ot\\_dep\\_rate\\\\\n",
       "\\hline\n",
       "\t EWR       & 0.6369892\\\\\n",
       "\t JFK       & 0.6935854\\\\\n",
       "\t LGA       & 0.7279229\\\\\n",
       "\\end{tabular}\n"
      ],
      "text/markdown": [
       "\n",
       "origin | ot_dep_rate | \n",
       "|---|---|---|\n",
       "| EWR       | 0.6369892 | \n",
       "| JFK       | 0.6935854 | \n",
       "| LGA       | 0.7279229 | \n",
       "\n",
       "\n"
      ],
      "text/plain": [
       "  origin ot_dep_rate\n",
       "1 EWR    0.6369892  \n",
       "2 JFK    0.6935854  \n",
       "3 LGA    0.7279229  "
      ]
     },
     "metadata": {},
     "output_type": "display_data"
    }
   ],
   "source": [
    "nycflights  <- nycflights %>% \n",
    "        mutate(dep_type=ifelse(dep_delay<5,\"on time\",\"delayed\")) \n",
    "nycflights %>%\n",
    "        group_by(origin) %>%\n",
    "        summarise(ot_dep_rate = sum(dep_type == \"on time\") / n()) %>%\n",
    "        arrange(ot_dep_rate)"
   ]
  },
  {
   "cell_type": "code",
   "execution_count": 143,
   "metadata": {
    "collapsed": false
   },
   "outputs": [
    {
     "data": {},
     "metadata": {},
     "output_type": "display_data"
    },
    {
     "data": {
      "image/png": "[encoded data removed]",
      "text/plain": [
       "plot without title"
      ]
     },
     "metadata": {},
     "output_type": "display_data"
    }
   ],
   "source": [
    "ggplot(data=nycflights,aes(x=origin,fill=dep_type)) + geom_bar()"
   ]
  },
  {
   "cell_type": "markdown",
   "metadata": {},
   "source": [
    "Q. Mutate the data frame so that it includes a new variable that contains the \n",
    "average speed, `avg_speed` traveled by the plane for each flight (in mph). What is \n",
    "the tail number of the plane with the fastest `avg_speed`? **Hint:** Average speed \n",
    "can be calculated as distance divided by number of hours of travel, and note that \n",
    "`air_time` is given in minutes. If you just want to show the `avg_speed` and \n",
    "`tailnum` and none of the other variables, use the select function at the end of your \n",
    "pipe to select just these two variables with `select(avg_speed, tailnum)`. You can \n",
    "Google this tail number to find out more about the aircraft. "
   ]
  },
  {
   "cell_type": "code",
   "execution_count": 144,
   "metadata": {
    "collapsed": false
   },
   "outputs": [
    {
     "data": {
      "text/html": [
       "<table>\n",
       "<thead><tr><th scope=col>tailnum</th><th scope=col>avg_speed</th></tr></thead>\n",
       "<tbody>\n",
       "\t<tr><td>N666DN   </td><td>11.723077</td></tr>\n",
       "\t<tr><td>N779JB   </td><td> 9.290698</td></tr>\n",
       "\t<tr><td>N571JB   </td><td> 9.236994</td></tr>\n",
       "\t<tr><td>N568JB   </td><td> 9.131429</td></tr>\n",
       "\t<tr><td>N5EHAA   </td><td> 9.131429</td></tr>\n",
       "\t<tr><td>N656JB   </td><td> 9.131429</td></tr>\n",
       "</tbody>\n",
       "</table>\n"
      ],
      "text/latex": [
       "\\begin{tabular}{r|ll}\n",
       " tailnum & avg\\_speed\\\\\n",
       "\\hline\n",
       "\t N666DN    & 11.723077\\\\\n",
       "\t N779JB    &  9.290698\\\\\n",
       "\t N571JB    &  9.236994\\\\\n",
       "\t N568JB    &  9.131429\\\\\n",
       "\t N5EHAA    &  9.131429\\\\\n",
       "\t N656JB    &  9.131429\\\\\n",
       "\\end{tabular}\n"
      ],
      "text/markdown": [
       "\n",
       "tailnum | avg_speed | \n",
       "|---|---|---|---|---|---|\n",
       "| N666DN    | 11.723077 | \n",
       "| N779JB    |  9.290698 | \n",
       "| N571JB    |  9.236994 | \n",
       "| N568JB    |  9.131429 | \n",
       "| N5EHAA    |  9.131429 | \n",
       "| N656JB    |  9.131429 | \n",
       "\n",
       "\n"
      ],
      "text/plain": [
       "  tailnum avg_speed\n",
       "1 N666DN  11.723077\n",
       "2 N779JB   9.290698\n",
       "3 N571JB   9.236994\n",
       "4 N568JB   9.131429\n",
       "5 N5EHAA   9.131429\n",
       "6 N656JB   9.131429"
      ]
     },
     "metadata": {},
     "output_type": "display_data"
    }
   ],
   "source": [
    "nycflights  <- nycflights %>% \n",
    "        mutate(avg_speed=distance/air_time)\n",
    "head(nycflights %>%\n",
    "            select(tailnum,avg_speed) %>%\n",
    "            arrange(desc(avg_speed)))"
   ]
  },
  {
   "cell_type": "markdown",
   "metadata": {},
   "source": [
    "Q. Make a scatterplot of `avg_speed` vs. `distance`. Which of the following is true \n",
    "about the relationship between average speed and distance. \n",
    "<ol>\n",
    "<li> As distance increases the average speed of flights decreases. </li> \n",
    "<li> The relationship is linear. </li> \n",
    "<li> There is an overall postive association between distance and average speed.</li> \n",
    "<li> There are no outliers. </li> \n",
    "<li> The distribution of distances are uniform over 0 to 5000 miles. </li> \n",
    "</ol>"
   ]
  },
  {
   "cell_type": "code",
   "execution_count": 147,
   "metadata": {
    "collapsed": false
   },
   "outputs": [
    {
     "name": "stderr",
     "output_type": "stream",
     "text": [
      "`geom_smooth()` using method = 'gam'\n"
     ]
    },
    {
     "data": {},
     "metadata": {},
     "output_type": "display_data"
    },
    {
     "data": {
      "image/png": "[encoded data removed]",
      "text/plain": [
       "plot without title"
      ]
     },
     "metadata": {},
     "output_type": "display_data"
    }
   ],
   "source": [
    "ggplot(data=nycflights,aes(x=distance,y=avg_speed))+geom_point() +geom_smooth()"
   ]
  },
  {
   "cell_type": "markdown",
   "metadata": {},
   "source": [
    "Q. Suppose you define a flight to be \"on time\" if it gets to the destination on \n",
    "time or earlier than expected, regardless of any departure delays. Mutate the data \n",
    "frame to create a new variable called `arr_type` with levels `\"on time\"` and \n",
    "`\"delayed\"` based on this definition. Then, determine the on time arrival percentage \n",
    "based on whether the flight departed on time or not. What proportion of flights  that \n",
    "were `\"delayed\"` departing arrive `\"on time\"`? "
   ]
  },
  {
   "cell_type": "code",
   "execution_count": 151,
   "metadata": {
    "collapsed": false
   },
   "outputs": [
    {
     "data": {
      "text/plain": [
       "\n",
       "  delayed   on time \n",
       "0.4280128 0.5719872 "
      ]
     },
     "metadata": {},
     "output_type": "display_data"
    }
   ],
   "source": [
    "nycflights <- nycflights %>%\n",
    "  mutate(arr_type = ifelse(arr_delay < 0, \"on time\", \"delayed\"))\n",
    "\n",
    "nycflights$arr_type <- as.factor(nycflights$arr_type)\n",
    "proportion <- as.array(table(nycflights$arr_type))\n",
    "prop.table(proportion)"
   ]
  },
  {
   "cell_type": "code",
   "execution_count": null,
   "metadata": {
    "collapsed": true
   },
   "outputs": [],
   "source": []
  }
 ],
 "metadata": {
  "anaconda-cloud": {},
  "kernelspec": {
   "display_name": "R",
   "language": "R",
   "name": "ir"
  },
  "language_info": {
   "codemirror_mode": "r",
   "file_extension": ".r",
   "mimetype": "text/x-r-source",
   "name": "R",
   "pygments_lexer": "r",
   "version": "3.3.2"
  }
 },
 "nbformat": 4,
 "nbformat_minor": 1
}
